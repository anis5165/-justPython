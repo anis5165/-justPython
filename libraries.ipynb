{
 "cells": [
  {
   "cell_type": "code",
   "execution_count": 2,
   "metadata": {},
   "outputs": [],
   "source": [
    "import math"
   ]
  },
  {
   "cell_type": "code",
   "execution_count": 10,
   "metadata": {},
   "outputs": [
    {
     "name": "stdout",
     "output_type": "stream",
     "text": [
      "5.0\n",
      "120\n",
      "3.141592653589793\n",
      "2.302585092994046\n",
      "10\n",
      "0.8509035245341184\n"
     ]
    }
   ],
   "source": [
    "print(math.sqrt(25))\n",
    "print(math.factorial(5))\n",
    "print(math.pi)\n",
    "print(math.log(10))\n",
    "print(math.gcd(10,20))\n",
    "print(math.sin(45))"
   ]
  },
  {
   "cell_type": "code",
   "execution_count": 11,
   "metadata": {},
   "outputs": [],
   "source": [
    "from random import random, randint, choice, shuffle"
   ]
  },
  {
   "cell_type": "code",
   "execution_count": 50,
   "metadata": {},
   "outputs": [
    {
     "name": "stdout",
     "output_type": "stream",
     "text": [
      "get a random number between 0 and 1: 0.4939713916196825\n",
      "get a random number between 1 and 100: 17\n",
      "get a random number from a list: 1\n",
      "shuffle a list: ['Doe', 'Alice', 'John', 'Bob', 'Jane']\n"
     ]
    }
   ],
   "source": [
    "print('get a random number between 0 and 1:', random())\n",
    "print('get a random number between 1 and 100:', randint(1, 20))\n",
    "print('get a random number from a list:', choice([1, 2, 3, 4, 5]))\n",
    "names = ['John', 'Jane', 'Doe', 'Alice', 'Bob']\n",
    "shuffle(names)\n",
    "print('shuffle a list:', names)"
   ]
  },
  {
   "cell_type": "code",
   "execution_count": 51,
   "metadata": {},
   "outputs": [],
   "source": [
    "from datetime import datetime as dt"
   ]
  },
  {
   "cell_type": "code",
   "execution_count": 52,
   "metadata": {},
   "outputs": [
    {
     "name": "stdout",
     "output_type": "stream",
     "text": [
      "current date and time: 2025-03-05 17:45:43.438839\n"
     ]
    }
   ],
   "source": [
    "print('current date and time:', dt.now())"
   ]
  },
  {
   "cell_type": "code",
   "execution_count": 65,
   "metadata": {},
   "outputs": [
    {
     "name": "stdout",
     "output_type": "stream",
     "text": [
      "current year: 2025\n",
      "current month: 3\n",
      "current day: 5\n",
      "current hour: 17\n",
      "current minute: 47\n",
      "current second: 32\n"
     ]
    }
   ],
   "source": [
    "print('current year:', dt.now().year)\n",
    "print('current month:', dt.now().month)\n",
    "print('current day:', dt.now().day)\n",
    "print('current hour:', dt.now().hour)\n",
    "print('current minute:', dt.now().minute)\n",
    "print('current second:', dt.now().second)"
   ]
  },
  {
   "cell_type": "code",
   "execution_count": 68,
   "metadata": {},
   "outputs": [
    {
     "name": "stdout",
     "output_type": "stream",
     "text": [
      "current date and time: Wednesday\n",
      "current date and time: March\n",
      "current date and time: Wed\n"
     ]
    }
   ],
   "source": [
    "print('current date and time:', dt.now().strftime('%A'))\n",
    "print('current date and time:', dt.now().strftime('%B'))\n",
    "print('current date and time:', dt.now().strftime('%a'))"
   ]
  },
  {
   "cell_type": "code",
   "execution_count": 69,
   "metadata": {},
   "outputs": [],
   "source": [
    "import os"
   ]
  },
  {
   "cell_type": "code",
   "execution_count": 70,
   "metadata": {},
   "outputs": [
    {
     "name": "stdout",
     "output_type": "stream",
     "text": [
      "current working directory: c:\\Users\\dell\\Documents\\Program UpTo\\Python\n"
     ]
    }
   ],
   "source": [
    "print('current working directory:', os.getcwd())"
   ]
  },
  {
   "cell_type": "code",
   "execution_count": 73,
   "metadata": {},
   "outputs": [
    {
     "name": "stdout",
     "output_type": "stream",
     "text": [
      "files in the current directory: ['index.ipynb', 'libraries.ipynb']\n",
      "2 files found\n"
     ]
    }
   ],
   "source": [
    "files = os.listdir()\n",
    "print('files in the current directory:', files)\n",
    "print(len(files),'files found')"
   ]
  },
  {
   "cell_type": "code",
   "execution_count": 75,
   "metadata": {},
   "outputs": [
    {
     "name": "stdout",
     "output_type": "stream",
     "text": [
      "files in the current directory: ['AI Code Builder', 'Apna DSA', 'C++ Code', 'Code-Collab', 'html tutorial', 'MERN', 'MERN +', 'Persona Builder', 'Python', 'Quick-Cast', 'React', 'react-portfolio', 'sopify-extension', 'Think_Spot']\n"
     ]
    }
   ],
   "source": [
    "files=os.listdir(r\"C:\\Users\\dell\\Documents\\Program UpTo\")  #r is used to convert the string into raw string\n",
    "print('files in the current directory:', files)"
   ]
  },
  {
   "cell_type": "code",
   "execution_count": 76,
   "metadata": {},
   "outputs": [
    {
     "name": "stdout",
     "output_type": "stream",
     "text": [
      "path -  C:\n",
      "folder -  []\n",
      "files -  ['index.ipynb', 'libraries.ipynb']\n",
      "Total files found: 2\n"
     ]
    }
   ],
   "source": [
    "total_files = 0\n",
    "for path, folder, files in os.walk('C:'):\n",
    "    print('path - ', path)\n",
    "    print('folder - ', folder)\n",
    "    print('files - ', files)\n",
    "    total_files += len(files)\n",
    "print('Total files found:', total_files)"
   ]
  },
  {
   "cell_type": "code",
   "execution_count": 79,
   "metadata": {},
   "outputs": [
    {
     "name": "stdout",
     "output_type": "stream",
     "text": [
      "The path exists\n"
     ]
    }
   ],
   "source": [
    "files = r\"C:\\Users\\dell\\Documents\\Program UpTo\\Python\"\n",
    "if os.path.exists(files):\n",
    "    print('The path exists')\n",
    "else:\n",
    "    print('The path does not exist')"
   ]
  },
  {
   "cell_type": "code",
   "execution_count": 81,
   "metadata": {},
   "outputs": [
    {
     "name": "stdout",
     "output_type": "stream",
     "text": [
      "The path exists\n",
      "folder size: 6407 bytes\n",
      "folder size: 6.2568359375 KB\n",
      "folder size: 0.006110191345214844 MB\n",
      "folder size: 5.966983735561371e-06 GB\n"
     ]
    }
   ],
   "source": [
    "files = r\"C:\\Users\\dell\\Documents\\Program UpTo\\Python\\index.ipynb\"\n",
    "if os.path.exists(files):\n",
    "    print('The path exists')\n",
    "    size = os.path.getsize(files)\n",
    "    print('folder size:', size, 'bytes')\n",
    "    print('folder size:', size/1024, 'KB')\n",
    "    print('folder size:', size/1024/1024, 'MB')\n",
    "    print('folder size:', size/1024/1024/1024, 'GB')\n",
    "else:\n",
    "    print('The path does not exist')"
   ]
  }
 ],
 "metadata": {
  "kernelspec": {
   "display_name": "Python 3",
   "language": "python",
   "name": "python3"
  },
  "language_info": {
   "codemirror_mode": {
    "name": "ipython",
    "version": 3
   },
   "file_extension": ".py",
   "mimetype": "text/x-python",
   "name": "python",
   "nbconvert_exporter": "python",
   "pygments_lexer": "ipython3",
   "version": "3.10.11"
  }
 },
 "nbformat": 4,
 "nbformat_minor": 2
}
