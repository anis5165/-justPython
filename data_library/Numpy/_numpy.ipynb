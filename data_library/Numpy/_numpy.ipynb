{
 "cells": [
  {
   "cell_type": "code",
   "execution_count": 1,
   "id": "ac8e6f57",
   "metadata": {},
   "outputs": [],
   "source": [
    "import numpy as np"
   ]
  },
  {
   "cell_type": "code",
   "execution_count": 2,
   "id": "2e3590e1",
   "metadata": {},
   "outputs": [
    {
     "name": "stdout",
     "output_type": "stream",
     "text": [
      "[1 2 3 4]\n"
     ]
    }
   ],
   "source": [
    "#creating arrays from python list\n",
    "\n",
    "arr = np.array([1,2,3,4])\n",
    "print(arr)"
   ]
  },
  {
   "cell_type": "code",
   "execution_count": 5,
   "id": "9e861aa2",
   "metadata": {},
   "outputs": [
    {
     "name": "stdout",
     "output_type": "stream",
     "text": [
      "[[0. 0. 0.]\n",
      " [0. 0. 0.]\n",
      " [0. 0. 0.]]\n",
      "\n",
      " [[1. 1. 1.]\n",
      " [1. 1. 1.]\n",
      " [1. 1. 1.]]\n",
      "\n",
      " [[7 7 7]\n",
      " [7 7 7]]\n"
     ]
    }
   ],
   "source": [
    "#with default values arrays\n",
    "\n",
    "# for all default zeros value \n",
    "zeros = np.zeros((3,3))\n",
    "print(zeros)\n",
    "\n",
    "\n",
    "#for all default ones value\n",
    "ones = np.ones((3,3))\n",
    "print(\"\\n\",ones)\n",
    "\n",
    "# another one\n",
    "filled_array = np.full((2,3,),7)\n",
    "print(\"\\n\",filled_array)"
   ]
  },
  {
   "cell_type": "code",
   "execution_count": 10,
   "id": "63d6e3c0",
   "metadata": {},
   "outputs": [
    {
     "name": "stdout",
     "output_type": "stream",
     "text": [
      "[ 1  3  5  7  9 11]\n"
     ]
    }
   ],
   "source": [
    "#creating sequences of numbers in numpy\n",
    "#arange()\n",
    "#arange(start, stop, step)\n",
    "\n",
    "sequence_of_series = np.arange(1,12,2)\n",
    "print(sequence_of_series)"
   ]
  },
  {
   "cell_type": "code",
   "execution_count": null,
   "id": "c14ba057",
   "metadata": {},
   "outputs": [
    {
     "name": "stdout",
     "output_type": "stream",
     "text": [
      "[[1. 0. 0.]\n",
      " [0. 1. 0.]\n",
      " [0. 0. 1.]\n",
      " [0. 0. 0.]]\n"
     ]
    }
   ],
   "source": [
    "#creating identity matrices\n",
    "#eye(size)\n",
    "\n",
    "identity_matrix = np.eye(4)\n",
    "print(identity_matrix)"
   ]
  },
  {
   "cell_type": "code",
   "execution_count": 23,
   "id": "a40ab50a",
   "metadata": {},
   "outputs": [
    {
     "name": "stdout",
     "output_type": "stream",
     "text": [
      "Shape: (2, 3)\n",
      "size: 6\n",
      "size: 2\n",
      "size: 3\n"
     ]
    }
   ],
   "source": [
    "#checking attributes - shape, size & ndin - number of dimension\n",
    "\n",
    "arr_2d = np.array([[1,2,3],\n",
    "                  [4,5,6]])\n",
    "print(\"Shape:\",arr_2d.shape)\n",
    "print(\"size:\",arr_2d.size)\n",
    "print(\"size:\",arr_2d.ndim)\n",
    "\n",
    "arr_ndim = np.array([[[1,2],[3,4],[5,6],[7,8]]])\n",
    "print(\"size:\",arr_ndim.ndim)"
   ]
  },
  {
   "cell_type": "code",
   "execution_count": 31,
   "id": "328164a1",
   "metadata": {},
   "outputs": [
    {
     "name": "stdout",
     "output_type": "stream",
     "text": [
      "Data Type: float64\n",
      "before data type convert: [1.2 2.3 3.4 4.5]\n",
      "float64\n",
      "\n",
      "After data type convert: [1 2 3 4]\n",
      "int64\n"
     ]
    }
   ],
   "source": [
    "#dtype - data-type of elements\n",
    "\n",
    "arr_dataType = np.array([1,2,3.5,4,5,6])\n",
    "print(\"Data Type:\",arr_dataType.dtype)\n",
    "\n",
    "# change data type - astype(new.type)\n",
    "brr = np.array([1.2,2.3,3.4,4.5])\n",
    "print(\"before data type convert:\",brr)\n",
    "print(brr.dtype)\n",
    "int_brr = brr.astype(int)\n",
    "print(\"\\nAfter data type convert:\",int_brr)\n",
    "print(int_brr.dtype)"
   ]
  },
  {
   "cell_type": "code",
   "execution_count": 36,
   "id": "81618805",
   "metadata": {},
   "outputs": [
    {
     "name": "stdout",
     "output_type": "stream",
     "text": [
      "[ 6  7  8  9 10 11]\n",
      "[-4 -3 -2 -1  0  1]\n",
      "[ 5 10 15 20 25 30]\n",
      "[0.2 0.4 0.6 0.8 1.  1.2]\n",
      "[   1   32  243 1024 3125 7776]\n"
     ]
    }
   ],
   "source": [
    "# mathematicals operation on numpy array\n",
    "\n",
    "num = np.array([1,2,3,4,5,6])\n",
    "print(num + 5)\n",
    "print(num - 5)\n",
    "print(num * 5)\n",
    "print(num / 5)\n",
    "print(num ** 5)"
   ]
  },
  {
   "cell_type": "code",
   "execution_count": null,
   "id": "548a33b5",
   "metadata": {},
   "outputs": [],
   "source": [
    "#aggregation function -  data me se summary nikalna"
   ]
  }
 ],
 "metadata": {
  "kernelspec": {
   "display_name": "venv",
   "language": "python",
   "name": "python3"
  },
  "language_info": {
   "codemirror_mode": {
    "name": "ipython",
    "version": 3
   },
   "file_extension": ".py",
   "mimetype": "text/x-python",
   "name": "python",
   "nbconvert_exporter": "python",
   "pygments_lexer": "ipython3",
   "version": "3.12.5"
  }
 },
 "nbformat": 4,
 "nbformat_minor": 5
}
