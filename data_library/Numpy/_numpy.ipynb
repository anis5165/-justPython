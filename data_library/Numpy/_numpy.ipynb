{
 "cells": [
  {
   "cell_type": "code",
   "execution_count": 2,
   "id": "ac8e6f57",
   "metadata": {},
   "outputs": [],
   "source": [
    "import numpy as np"
   ]
  },
  {
   "cell_type": "code",
   "execution_count": 2,
   "id": "2e3590e1",
   "metadata": {},
   "outputs": [
    {
     "name": "stdout",
     "output_type": "stream",
     "text": [
      "[1 2 3 4]\n"
     ]
    }
   ],
   "source": [
    "#creating arrays from python list\n",
    "\n",
    "arr = np.array([1,2,3,4])\n",
    "print(arr)"
   ]
  },
  {
   "cell_type": "code",
   "execution_count": 5,
   "id": "9e861aa2",
   "metadata": {},
   "outputs": [
    {
     "name": "stdout",
     "output_type": "stream",
     "text": [
      "[[0. 0. 0.]\n",
      " [0. 0. 0.]\n",
      " [0. 0. 0.]]\n",
      "\n",
      " [[1. 1. 1.]\n",
      " [1. 1. 1.]\n",
      " [1. 1. 1.]]\n",
      "\n",
      " [[7 7 7]\n",
      " [7 7 7]]\n"
     ]
    }
   ],
   "source": [
    "#with default values arrays\n",
    "\n",
    "# for all default zeros value \n",
    "zeros = np.zeros((3,3))\n",
    "print(zeros)\n",
    "\n",
    "\n",
    "#for all default ones value\n",
    "ones = np.ones((3,3))\n",
    "print(\"\\n\",ones)\n",
    "\n",
    "# another one\n",
    "filled_array = np.full((2,3,),7)\n",
    "print(\"\\n\",filled_array)"
   ]
  },
  {
   "cell_type": "code",
   "execution_count": 10,
   "id": "63d6e3c0",
   "metadata": {},
   "outputs": [
    {
     "name": "stdout",
     "output_type": "stream",
     "text": [
      "[ 1  3  5  7  9 11]\n"
     ]
    }
   ],
   "source": [
    "#creating sequences of numbers in numpy\n",
    "#arange()\n",
    "#arange(start, stop, step)\n",
    "\n",
    "sequence_of_series = np.arange(1,12,2)\n",
    "print(sequence_of_series)"
   ]
  },
  {
   "cell_type": "code",
   "execution_count": null,
   "id": "c14ba057",
   "metadata": {},
   "outputs": [
    {
     "name": "stdout",
     "output_type": "stream",
     "text": [
      "[[1. 0. 0.]\n",
      " [0. 1. 0.]\n",
      " [0. 0. 1.]\n",
      " [0. 0. 0.]]\n"
     ]
    }
   ],
   "source": [
    "#creating identity matrices\n",
    "#eye(size)\n",
    "\n",
    "identity_matrix = np.eye(4)\n",
    "print(identity_matrix)"
   ]
  },
  {
   "cell_type": "code",
   "execution_count": 23,
   "id": "a40ab50a",
   "metadata": {},
   "outputs": [
    {
     "name": "stdout",
     "output_type": "stream",
     "text": [
      "Shape: (2, 3)\n",
      "size: 6\n",
      "size: 2\n",
      "size: 3\n"
     ]
    }
   ],
   "source": [
    "#checking attributes - shape, size & ndin - number of dimension\n",
    "\n",
    "arr_2d = np.array([[1,2,3],\n",
    "                  [4,5,6]])\n",
    "print(\"Shape:\",arr_2d.shape)\n",
    "print(\"size:\",arr_2d.size)\n",
    "print(\"size:\",arr_2d.ndim)\n",
    "\n",
    "arr_ndim = np.array([[[1,2],[3,4],[5,6],[7,8]]])\n",
    "print(\"size:\",arr_ndim.ndim)"
   ]
  },
  {
   "cell_type": "code",
   "execution_count": 31,
   "id": "328164a1",
   "metadata": {},
   "outputs": [
    {
     "name": "stdout",
     "output_type": "stream",
     "text": [
      "Data Type: float64\n",
      "before data type convert: [1.2 2.3 3.4 4.5]\n",
      "float64\n",
      "\n",
      "After data type convert: [1 2 3 4]\n",
      "int64\n"
     ]
    }
   ],
   "source": [
    "#dtype - data-type of elements\n",
    "\n",
    "arr_dataType = np.array([1,2,3.5,4,5,6])\n",
    "print(\"Data Type:\",arr_dataType.dtype)\n",
    "\n",
    "# change data type - astype(new.type)\n",
    "brr = np.array([1.2,2.3,3.4,4.5])\n",
    "print(\"before data type convert:\",brr)\n",
    "print(brr.dtype)\n",
    "int_brr = brr.astype(int)\n",
    "print(\"\\nAfter data type convert:\",int_brr)\n",
    "print(int_brr.dtype)"
   ]
  },
  {
   "cell_type": "code",
   "execution_count": 36,
   "id": "81618805",
   "metadata": {},
   "outputs": [
    {
     "name": "stdout",
     "output_type": "stream",
     "text": [
      "[ 6  7  8  9 10 11]\n",
      "[-4 -3 -2 -1  0  1]\n",
      "[ 5 10 15 20 25 30]\n",
      "[0.2 0.4 0.6 0.8 1.  1.2]\n",
      "[   1   32  243 1024 3125 7776]\n"
     ]
    }
   ],
   "source": [
    "# mathematicals operation on numpy array\n",
    "\n",
    "num = np.array([1,2,3,4,5,6])\n",
    "print(num + 5)\n",
    "print(num - 5)\n",
    "print(num * 5)\n",
    "print(num / 5)\n",
    "print(num ** 5)"
   ]
  },
  {
   "cell_type": "code",
   "execution_count": null,
   "id": "548a33b5",
   "metadata": {},
   "outputs": [
    {
     "name": "stdout",
     "output_type": "stream",
     "text": [
      "210\n",
      "35.0\n",
      "10\n",
      "60\n",
      "17.07825127659933\n",
      "291.6666666666667\n"
     ]
    }
   ],
   "source": [
    "#aggregation function -  data me se summary nikalna\n",
    "\n",
    "agg = np.array([10,20,30,40,50,60])\n",
    "print(np.sum(agg))\n",
    "print(np.mean(agg))  #average\n",
    "print(np.min(agg))\n",
    "print(np.max(agg))\n",
    "print(np.std(agg)) #standard deviation\n",
    "print(np.var(agg)) #variance\n"
   ]
  },
  {
   "cell_type": "code",
   "execution_count": 8,
   "id": "c33107a9",
   "metadata": {},
   "outputs": [
    {
     "name": "stdout",
     "output_type": "stream",
     "text": [
      "10\n",
      "20\n",
      "30\n",
      "50\n",
      "6\n"
     ]
    }
   ],
   "source": [
    "# indexing\n",
    "\n",
    "access_arr = np.array([10,20,30,40,50])\n",
    "print(access_arr[0])\n",
    "print(access_arr[1])\n",
    "print(access_arr[2])\n",
    "print(access_arr[-1])\n",
    "\n",
    "cr = np.array([[1,2,3],[4,5,6]])\n",
    "print(cr[1,2])"
   ]
  },
  {
   "cell_type": "code",
   "execution_count": null,
   "id": "81cfdae3",
   "metadata": {},
   "outputs": [
    {
     "name": "stdout",
     "output_type": "stream",
     "text": [
      "[10 20 30]\n",
      "[10 20 30 40 50]\n",
      "[10 20 30 40]\n",
      "[20 30]\n",
      "[20 40]\n",
      "[10 30 50]\n",
      "[50 40 30 20 10]\n"
     ]
    }
   ],
   "source": [
    "# slicing\n",
    "\n",
    "slice_arr = np.array([10,20,30,40,50])\n",
    "print(slice_arr[0:3])\n",
    "print(slice_arr[0:])\n",
    "print(slice_arr[:4])\n",
    "print(slice_arr[1:3])\n",
    "print(slice_arr[1::2])\n",
    "print(slice_arr[::2]) #every second element\n",
    "print(slice_arr[::-1]) #reverse\n"
   ]
  },
  {
   "cell_type": "code",
   "execution_count": null,
   "id": "07c3b82e",
   "metadata": {},
   "outputs": [
    {
     "name": "stdout",
     "output_type": "stream",
     "text": [
      "[10 30 50 80]\n"
     ]
    }
   ],
   "source": [
    "# fancy indexing\n",
    "\n",
    "ar = np.array([10,20,30,40,50,60,70,80])\n",
    "print(ar[[0,2,4,7]]) #it creates a copy\n",
    "\n"
   ]
  },
  {
   "cell_type": "code",
   "execution_count": null,
   "id": "d74e229e",
   "metadata": {},
   "outputs": [
    {
     "name": "stdout",
     "output_type": "stream",
     "text": [
      "[30 40 50 60 70 80]\n"
     ]
    }
   ],
   "source": [
    "# filtering data - ( boolean masking )\n",
    "\n",
    "array1 = np.array([10,20,30,40,50,60,70,80])\n",
    "\n",
    "print(array1[array1 > 25])"
   ]
  },
  {
   "cell_type": "code",
   "execution_count": 28,
   "id": "25e94233",
   "metadata": {},
   "outputs": [
    {
     "name": "stdout",
     "output_type": "stream",
     "text": [
      "[[10 20]\n",
      " [30 40]\n",
      " [50 60]\n",
      " [70 80]]\n",
      "[1 2 3 4 5 6 7 8 9]\n",
      "[1 2 3 4 5 6 7 8 9]\n"
     ]
    }
   ],
   "source": [
    "#reshaping and manipulating\n",
    "\n",
    "array2 = np.array([10,20,30,40,50,60,70,80])\n",
    "\n",
    "#reshaping does not create copy, it returns a view\n",
    "reshaped_Arr = array2.reshape(4,2)\n",
    "\n",
    "print(reshaped_Arr)\n",
    "\n",
    "#flattering array\n",
    "array3 = np.array([[[1,2,3],[4,5,6],[7,8,9]]])\n",
    "print(array3.ravel()) #it returns a view\n",
    "print(array3.flatten()) # it create a copy"
   ]
  },
  {
   "cell_type": "code",
   "execution_count": null,
   "id": "6df2470e",
   "metadata": {},
   "outputs": [
    {
     "name": "stdout",
     "output_type": "stream",
     "text": [
      "[10 20 30 40 50 60 70 80]\n",
      "[ 10  20 100  30  40  50  60  70  80]\n",
      "\n",
      " [[1 2]\n",
      " [4 5]]\n",
      "\n",
      " [[1 5 2]\n",
      " [4 6 5]]\n",
      "\n",
      " [[1 2]\n",
      " [5 6]\n",
      " [4 5]]\n",
      "\n",
      " [1 5 6 2 4 5]\n"
     ]
    }
   ],
   "source": [
    "#Advanced numpy - add \n",
    "#np.inerst(array, index, value, axis=None), in 2d if axis = 0 row wise and if axis = 1 column wise\n",
    "# and if axis = None then it insert an element on flattend version\n",
    "\n",
    "\n",
    "arr = np.array([10,20,30,40,50,60,70,80])\n",
    "print(arr)\n",
    "new_Arr = np.insert(arr, 2, 100)\n",
    "print(new_Arr)\n",
    "\n",
    "\n",
    "brr = np.array([[1,2],[4,5]])\n",
    "print(\"\\n\",brr)\n",
    "new_brr = np.insert(brr, 1, [5,6], axis=1)\n",
    "print(\"\\ncolumn wise\",new_brr)\n",
    "new_brr = np.insert(brr, 1, [5,6], axis=0)\n",
    "print(\"\\n row wise\",new_brr)\n",
    "new_brr = np.insert(brr, 1, [5,6], axis=None)\n",
    "print(\"\\ninserting on flattered version\",new_brr)"
   ]
  },
  {
   "cell_type": "code",
   "execution_count": 39,
   "id": "5ebab16e",
   "metadata": {},
   "outputs": [
    {
     "name": "stdout",
     "output_type": "stream",
     "text": [
      "[10 20 30 40 50 60]\n"
     ]
    }
   ],
   "source": [
    "#apppend\n",
    "\n",
    "arr = np.array([10,20,30])\n",
    "new_arr = np.append(arr, [40,50,60])\n",
    "\n",
    "print(new_arr)"
   ]
  },
  {
   "cell_type": "code",
   "execution_count": null,
   "id": "978bcbf8",
   "metadata": {},
   "outputs": [
    {
     "name": "stdout",
     "output_type": "stream",
     "text": [
      "[10 20 30 40 50 60]\n"
     ]
    }
   ],
   "source": [
    "# merge \n",
    "arr = np.array([10,20,30],[4,5,6])\n",
    "brr = np.array([40,50,60],)\n",
    "\n",
    "merged_arr = np.concatenate((arr, brr))\n",
    "print(merged_arr)"
   ]
  },
  {
   "cell_type": "code",
   "execution_count": null,
   "id": "fdf65635",
   "metadata": {},
   "outputs": [
    {
     "name": "stdout",
     "output_type": "stream",
     "text": [
      "[10 20 30 40 50 60]\n",
      "[10 20 40 50 60]\n",
      "\n",
      " [[10 20 30]\n",
      " [40 50 60]]\n",
      "[[40 50 60]]\n"
     ]
    }
   ],
   "source": [
    "# removing element - it retuns new array\n",
    "\n",
    "arr = np.array([10,20,30,40,50,60])\n",
    "print(arr)\n",
    "print(np.delete(arr,2))\n",
    "\n",
    "\n",
    "arr2 = np.array([[10,20,30],[40,50,60]])\n",
    "print(\"\\n\",arr2)\n",
    "print(np.delete(arr2,0,axis=0))"
   ]
  },
  {
   "cell_type": "code",
   "execution_count": 51,
   "id": "8eb38ebb",
   "metadata": {},
   "outputs": [
    {
     "name": "stdout",
     "output_type": "stream",
     "text": [
      "[[1 2 3]\n",
      " [4 5 6]]\n",
      "[1 2 3 4 5 6]\n"
     ]
    }
   ],
   "source": [
    "#stacking - vstack() row wise, hstack column wise\n",
    "\n",
    "arr = np.array([1,2,3])\n",
    "arr2 = np.array([4,5,6])\n",
    "\n",
    "print(np.vstack((arr, arr2))) #vertically stacking\n",
    "print(np.hstack((arr, arr2))) #horizontally stacking\n"
   ]
  },
  {
   "cell_type": "code",
   "execution_count": 57,
   "id": "ea886cfd",
   "metadata": {},
   "outputs": [
    {
     "name": "stdout",
     "output_type": "stream",
     "text": [
      "[array([10, 20]), array([30, 40]), array([50, 60])]\n"
     ]
    }
   ],
   "source": [
    "#splitting array - np.split() equal\n",
    "\n",
    "arr2 = np.array([10,20,30,40,50,60])\n",
    "\n",
    "print(np.split(arr2,3))"
   ]
  },
  {
   "cell_type": "code",
   "execution_count": 65,
   "id": "111c641d",
   "metadata": {},
   "outputs": [
    {
     "name": "stdout",
     "output_type": "stream",
     "text": [
      "[ 90. 180. 270.]\n"
     ]
    }
   ],
   "source": [
    "#broadcasting\n",
    "\n",
    "prices = np.array([100,200,300])\n",
    "\n",
    "discount = 10\n",
    "final_prices = prices - (prices * discount/100)\n",
    "print(final_prices)"
   ]
  },
  {
   "cell_type": "code",
   "execution_count": 67,
   "id": "d8bec576",
   "metadata": {},
   "outputs": [
    {
     "name": "stdout",
     "output_type": "stream",
     "text": [
      "[2 4 6 8]\n",
      "[[ 10  40  90]\n",
      " [ 40 100 180]]\n"
     ]
    }
   ],
   "source": [
    "a = np.array([1,2,3,4])\n",
    "res = a * 2\n",
    "print(res)\n",
    "\n",
    "matrix = np.array([[1,2,3],[4,5,6]])\n",
    "vector = np.array([10,20,30])\n",
    "result = matrix * vector\n",
    "print(result)"
   ]
  }
 ],
 "metadata": {
  "kernelspec": {
   "display_name": "venv",
   "language": "python",
   "name": "python3"
  },
  "language_info": {
   "codemirror_mode": {
    "name": "ipython",
    "version": 3
   },
   "file_extension": ".py",
   "mimetype": "text/x-python",
   "name": "python",
   "nbconvert_exporter": "python",
   "pygments_lexer": "ipython3",
   "version": "3.12.5"
  }
 },
 "nbformat": 4,
 "nbformat_minor": 5
}
