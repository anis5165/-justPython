{
 "cells": [
  {
   "cell_type": "code",
   "execution_count": null,
   "id": "c5739ef7",
   "metadata": {},
   "outputs": [],
   "source": [
    "import numpy as np"
   ]
  },
  {
   "cell_type": "code",
   "execution_count": 8,
   "id": "1a809640",
   "metadata": {},
   "outputs": [
    {
     "name": "stdout",
     "output_type": "stream",
     "text": [
      "1D array: [1 2 3 4 5]\n",
      "2D-array: [[1 2 3]\n",
      " [4 5 6]]\n"
     ]
    }
   ],
   "source": [
    "arr_1d = np.array([1, 2, 3, 4, 5])\n",
    "print(\"1D array:\",arr_1d)\n",
    "\n",
    "arr_2d = np.array([[1,2,3],[4,5,6]])\n",
    "print(\"2D-array:\",arr_2d)"
   ]
  },
  {
   "cell_type": "markdown",
   "id": "0b0d8af2",
   "metadata": {},
   "source": [
    "### List v/s Numpy"
   ]
  },
  {
   "cell_type": "code",
   "execution_count": 14,
   "id": "41185cbd",
   "metadata": {},
   "outputs": [
    {
     "name": "stdout",
     "output_type": "stream",
     "text": [
      "Python list multiplication: [1, 2, 3, 1, 2, 3]\n",
      "Python array multiplication: [2 4 6]\n",
      "\n",
      " List operation time: 0.13966965675354004\n",
      "\n",
      " Numpy operation time: 0.009369134902954102\n"
     ]
    }
   ],
   "source": [
    "py_list = [1,2,3]\n",
    "print(\"Python list multiplication:\",py_list*2)\n",
    "\n",
    "np_array = np.array([1,2,3])   #element wise multiplication\n",
    "print(\"Python array multiplication:\",np_array * 2)\n",
    "\n",
    "\n",
    "import time\n",
    "start = time.time()\n",
    "py_list = [i*2 for i in range(1000000)]\n",
    "print(\"\\n List operation time:\", time.time() - start)\n",
    "\n",
    "start = time.time()\n",
    "np_array = np.arange(1000000) * 2\n",
    "print(\"\\n Numpy operation time:\", time.time() - start)\n"
   ]
  },
  {
   "cell_type": "markdown",
   "id": "0e54964c",
   "metadata": {},
   "source": [
    "### creating array from scratch\n"
   ]
  },
  {
   "cell_type": "code",
   "execution_count": 20,
   "id": "9c3189ca",
   "metadata": {},
   "outputs": [
    {
     "name": "stdout",
     "output_type": "stream",
     "text": [
      "zeros array: \n",
      " [[0. 0. 0. 0.]\n",
      " [0. 0. 0. 0.]\n",
      " [0. 0. 0. 0.]]\n",
      "ones array: \n",
      " [[1. 1. 1. 1.]\n",
      " [1. 1. 1. 1.]\n",
      " [1. 1. 1. 1.]]\n",
      "full array: \n",
      " [[7 7 7]\n",
      " [7 7 7]]\n",
      "random array: \n",
      " [[0.75528732 0.68671326 0.13193292]\n",
      " [0.36005163 0.91013011 0.80222304]]\n",
      "sequence array: \n",
      " [ 0  2  4  6  8 10]\n"
     ]
    }
   ],
   "source": [
    "zeros = np.zeros((3,4))\n",
    "print(\"zeros array: \\n\",zeros)\n",
    "\n",
    "ones = np.ones((3,4))\n",
    "print(\"ones array: \\n\",ones)\n",
    "\n",
    "full = np.full((2,3),7)\n",
    "print(\"full array: \\n\",full)\n",
    "\n",
    "\n",
    "random = np.random.random((2,3))\n",
    "print(\"random array: \\n\",random)\n",
    "\n",
    "sequence = np.arange(0,11,2)\n",
    "print(\"sequence array: \\n\",sequence)"
   ]
  },
  {
   "cell_type": "markdown",
   "id": "f84fa9e8",
   "metadata": {},
   "source": [
    "### vector, matrix and Tensor"
   ]
  },
  {
   "cell_type": "code",
   "execution_count": 25,
   "id": "725e6cc4",
   "metadata": {},
   "outputs": [
    {
     "name": "stdout",
     "output_type": "stream",
     "text": [
      "Vector: [1 2 3]\n",
      "Matrix:\n",
      " [[1 2 3]\n",
      " [4 5 6]]\n",
      "Tensor:\n",
      " [[[1 2]\n",
      "  [3 4]]\n",
      "\n",
      " [[5 6]\n",
      "  [7 8]]]\n"
     ]
    }
   ],
   "source": [
    "vector = np.array([1,2,3])\n",
    "print(\"Vector:\",vector)\n",
    "\n",
    "matrix = np.array([[1,2,3],[4,5,6]])\n",
    "print(\"Matrix:\\n\",matrix)\n",
    "\n",
    "tensor = np.array([[[1,2], [3,4]],\n",
    "                   [[5,6],[7,8]]])\n",
    "print(\"Tensor:\\n\",tensor)\n"
   ]
  },
  {
   "cell_type": "markdown",
   "id": "2cc0e3be",
   "metadata": {},
   "source": [
    "### Array properties"
   ]
  },
  {
   "cell_type": "code",
   "execution_count": 27,
   "id": "74c4a249",
   "metadata": {},
   "outputs": [
    {
     "name": "stdout",
     "output_type": "stream",
     "text": [
      "Shape: (2, 3)\n",
      "Dimension: 2\n",
      "Size: 6\n",
      "Data-Type: int64\n"
     ]
    }
   ],
   "source": [
    "arr = np.array([[1,2,3],[4,5,6]])\n",
    "print(\"Shape:\",arr.shape)\n",
    "print(\"Dimension:\",arr.ndim)\n",
    "print(\"Size:\",arr.size)\n",
    "print(\"Data-Type:\",arr.dtype)"
   ]
  },
  {
   "cell_type": "markdown",
   "id": "4f959c4f",
   "metadata": {},
   "source": [
    "### Array Reshaping"
   ]
  },
  {
   "cell_type": "code",
   "execution_count": 32,
   "id": "37576971",
   "metadata": {},
   "outputs": [
    {
     "name": "stdout",
     "output_type": "stream",
     "text": [
      "Original array: [ 0  1  2  3  4  5  6  7  8  9 10 11]\n",
      "\n",
      " Reshaped Array: [[ 0  1  2  3]\n",
      " [ 4  5  6  7]\n",
      " [ 8  9 10 11]]\n",
      "\n",
      " flattened Array: [ 0  1  2  3  4  5  6  7  8  9 10 11]\n",
      "\n",
      " Raveled Array: [ 0  1  2  3  4  5  6  7  8  9 10 11]\n",
      "\n",
      " Transpose of matrix: [[ 0  4  8]\n",
      " [ 1  5  9]\n",
      " [ 2  6 10]\n",
      " [ 3  7 11]]\n"
     ]
    }
   ],
   "source": [
    "arr = np.arange(12)\n",
    "print(\"Original array:\",arr)\n",
    "\n",
    "reshaped = arr.reshape((3,4))\n",
    "print(\"\\n Reshaped Array:\",reshaped)\n",
    "\n",
    "#returns copy array\n",
    "flattened = reshaped.flatten()\n",
    "print(\"\\n flattened Array:\",flattened)\n",
    "\n",
    "# ravel (returns original array, instead of copy)\n",
    "raveled = reshaped.ravel()\n",
    "print(\"\\n Raveled Array:\",raveled)\n",
    "\n",
    "#transpose\n",
    "transpose = reshaped.T\n",
    "print(\"\\n Transpose of matrix:\",transpose)"
   ]
  }
 ],
 "metadata": {
  "kernelspec": {
   "display_name": "venv",
   "language": "python",
   "name": "python3"
  },
  "language_info": {
   "codemirror_mode": {
    "name": "ipython",
    "version": 3
   },
   "file_extension": ".py",
   "mimetype": "text/x-python",
   "name": "python",
   "nbconvert_exporter": "python",
   "pygments_lexer": "ipython3",
   "version": "3.12.5"
  }
 },
 "nbformat": 4,
 "nbformat_minor": 5
}
