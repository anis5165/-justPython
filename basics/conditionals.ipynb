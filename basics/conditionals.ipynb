{
 "cells": [
  {
   "cell_type": "code",
   "execution_count": 4,
   "id": "daa1dfa2",
   "metadata": {},
   "outputs": [
    {
     "name": "stdout",
     "output_type": "stream",
     "text": [
      "Teenager\n"
     ]
    }
   ],
   "source": [
    "#age group categorization\n",
    "\n",
    "age = int(input(\"Enter age : \"))\n",
    "\n",
    "if age < 13:\n",
    "    print(\"Child\")\n",
    "elif age >= 13 & age <= 19:\n",
    "    print(\"Teenager\")\n",
    "elif age >=20 and age <= 59:\n",
    "    print(\"Adult\")\n",
    "else:\n",
    "    print(\"Senior\")"
   ]
  },
  {
   "cell_type": "code",
   "execution_count": null,
   "id": "abf4a271",
   "metadata": {},
   "outputs": [
    {
     "name": "stdout",
     "output_type": "stream",
     "text": [
      "Ticket price for you is $ 12\n"
     ]
    }
   ],
   "source": [
    "# movie ticket pricing \n",
    "# movie ticket are priced based on age: $12 for adults(18 and over), $8 for chiildren. Everyone gets a $2 dicount on wednesday\n",
    "\n",
    "age = int(input(\"Enter age : \"))\n",
    "day = input(\"Enter day : \")\n",
    "\n",
    "price = 12 if age >= 18 else 8\n",
    "\n",
    "\n",
    "if day == \"wednesday\":\n",
    "    price -= 2\n",
    "\n",
    "print(\"Ticket price for you is $\",price)"
   ]
  },
  {
   "cell_type": "code",
   "execution_count": 1,
   "id": "ededfa54",
   "metadata": {},
   "outputs": [
    {
     "name": "stdout",
     "output_type": "stream",
     "text": [
      "F\n"
     ]
    }
   ],
   "source": [
    "# Grade calculator \n",
    "\n",
    "grade = int(input(\"Enter grade : \"))\n",
    "\n",
    "# if grade >= 101:\n",
    "#     print(\"Please verify your grade again\")\n",
    "#     exit()\n",
    "\n",
    "if grade >=90:\n",
    "    print(\"A\")\n",
    "elif grade >=80:\n",
    "    print(\"B\")\n",
    "elif grade >=70:\n",
    "    print(\"C\")\n",
    "elif grade >=60:\n",
    "    print(\"D\")\n",
    "else:\n",
    "    print(\"F\")"
   ]
  },
  {
   "cell_type": "code",
   "execution_count": 3,
   "id": "9379583f",
   "metadata": {},
   "outputs": [
    {
     "name": "stdout",
     "output_type": "stream",
     "text": [
      "No information available\n"
     ]
    }
   ],
   "source": [
    "#fruit ripeness checker\n",
    "\n",
    "fruit = \"apple\"\n",
    "\n",
    "color = \"yellow\"\n",
    "\n",
    "if fruit == \"Banana\":\n",
    "    if color == \"Green\":\n",
    "        print(\"Unripe\")\n",
    "    elif color == \"yellow\":\n",
    "        print(\"ripe\")\n",
    "    elif color == \"brown\":\n",
    "        print(\"overripe\")\n",
    "\n",
    "elif fruit != \"Banana\":\n",
    "    print(\"No information available\")"
   ]
  },
  {
   "cell_type": "code",
   "execution_count": 6,
   "id": "da0074d7",
   "metadata": {},
   "outputs": [
    {
     "name": "stdout",
     "output_type": "stream",
     "text": [
      "Jo man kre!!\n"
     ]
    }
   ],
   "source": [
    "# weather activity suggestion \n",
    "\n",
    "\n",
    "weather = input(\"Enter weather : \")\n",
    "\n",
    "if weather == \"sunny\":\n",
    "    print(\"Go to walk\")\n",
    "elif weather == \"rainy\":\n",
    "    print(\"Read a book\")\n",
    "elif weather == \"snowy\":\n",
    "    print(\"Build a snowman\")\n",
    "else:\n",
    "    print(\"Jo man kre!!\")\n"
   ]
  },
  {
   "cell_type": "code",
   "execution_count": 7,
   "id": "1dfa3b5a",
   "metadata": {},
   "outputs": [
    {
     "name": "stdout",
     "output_type": "stream",
     "text": [
      "car\n"
     ]
    }
   ],
   "source": [
    "# transpotion mode selection \n",
    "\n",
    "distance = int(input(\"Enter distance : \"))\n",
    "\n",
    "if distance < 3:\n",
    "    print(\"Walk\")\n",
    "elif distance < 15:\n",
    "    print(\"Bike\")\n",
    "elif distance > 15:\n",
    "    print(\"car\")"
   ]
  },
  {
   "cell_type": "code",
   "execution_count": null,
   "id": "72dfdb3d",
   "metadata": {},
   "outputs": [
    {
     "name": "stdout",
     "output_type": "stream",
     "text": [
      "Order :  small coffee with an extra shot\n"
     ]
    }
   ],
   "source": [
    "#coffee customization\n",
    "\n",
    "order_size = input(\"Enter Coffee size : \")\n",
    "\n",
    "extra_shot = True\n",
    "\n",
    "if extra_shot:\n",
    "    coffee = order_size + \" coffee with an extra shot\"\n",
    "else:\n",
    "    coffee = order_size + \" coffee\"\n",
    "\n",
    "print(\"Order : \",coffee)"
   ]
  },
  {
   "cell_type": "code",
   "execution_count": 21,
   "id": "0e6d781b",
   "metadata": {},
   "outputs": [
    {
     "name": "stdout",
     "output_type": "stream",
     "text": [
      "Medium password\n"
     ]
    }
   ],
   "source": [
    "# password checker \n",
    "\n",
    "password = input(\"Enter password : \")\n",
    "\n",
    "password_len = len(password)\n",
    "\n",
    "if password_len < 6:\n",
    "    print(\"Weak password\")\n",
    "elif password_len < 10:\n",
    "    print(\"Medium password\")\n",
    "else:\n",
    "    print(\"Strong password\")"
   ]
  },
  {
   "cell_type": "code",
   "execution_count": 25,
   "id": "36adb450",
   "metadata": {},
   "outputs": [
    {
     "name": "stdout",
     "output_type": "stream",
     "text": [
      "2563 is Not Leap year\n"
     ]
    }
   ],
   "source": [
    "#leap year \n",
    "\n",
    "year = int(input(\"Enter year : \"))\n",
    "\n",
    "if year % 400 == 0 or(year % 4 == 0 and year % 100 != 0):\n",
    "    print(year,\"is leap year\")\n",
    "else:\n",
    "    print(year,\"is Not Leap year\")\n"
   ]
  },
  {
   "cell_type": "code",
   "execution_count": null,
   "id": "c6b92172",
   "metadata": {},
   "outputs": [
    {
     "name": "stdout",
     "output_type": "stream",
     "text": [
      "No data avaliable for  lion\n"
     ]
    }
   ],
   "source": [
    "# pet food recommendation\n",
    "\n",
    "pet = input(\"Enter pet : \")\n",
    "pet_age = int(input(\"Enter pet age : \"))\n",
    "\n",
    "if pet == \"dog\":\n",
    "    if pet_age < 2:\n",
    "        print(\"PUPPY FOOD\")\n",
    "    else:\n",
    "        print(\"normal food\")\n",
    "elif pet ==\"cat\":\n",
    "    if pet_age <= 5:\n",
    "        print(\"Junior cat food\")\n",
    "    else:\n",
    "        print(\"Senior cat food\")\n",
    "else:\n",
    "    print(\"No data avaliable for\",pet)"
   ]
  }
 ],
 "metadata": {
  "kernelspec": {
   "display_name": "Python 3",
   "language": "python",
   "name": "python3"
  },
  "language_info": {
   "codemirror_mode": {
    "name": "ipython",
    "version": 3
   },
   "file_extension": ".py",
   "mimetype": "text/x-python",
   "name": "python",
   "nbconvert_exporter": "python",
   "pygments_lexer": "ipython3",
   "version": "3.10.11"
  }
 },
 "nbformat": 4,
 "nbformat_minor": 5
}
