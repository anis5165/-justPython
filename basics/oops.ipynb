{
 "cells": [
  {
   "cell_type": "code",
   "execution_count": null,
   "id": "d1a4f5c5",
   "metadata": {},
   "outputs": [
    {
     "name": "stdout",
     "output_type": "stream",
     "text": [
      "Toyota\n",
      "Corolla\n",
      "Tata\n",
      "Safari\n"
     ]
    }
   ],
   "source": [
    "#basic class and object\n",
    "\n",
    "class Car:\n",
    "\n",
    "    def __init__(self, brand, model):   #__init__ is constructor\n",
    "        self.brand = brand\n",
    "        self.model = model\n",
    "    \n",
    "\n",
    "my_car = Car(\"Toyota\", \"Corolla\")\n",
    "print(my_car.brand)\n",
    "print(my_car.model)\n",
    "\n",
    "\n",
    "my_new_car = Car(\"Tata\", \"Safari\")\n",
    "print(my_new_car.brand)\n",
    "print(my_new_car.model)"
   ]
  },
  {
   "cell_type": "code",
   "execution_count": 7,
   "id": "ba5b0cad",
   "metadata": {},
   "outputs": [
    {
     "name": "stdout",
     "output_type": "stream",
     "text": [
      "Toyota\n",
      "Corolla\n",
      "Toyota Corolla\n"
     ]
    }
   ],
   "source": [
    "#class methoda and self\n",
    "\n",
    "class Car:\n",
    "\n",
    "    def __init__(self, brand, model):   #__init__ is constructor\n",
    "        self.brand = brand\n",
    "        self.model = model\n",
    "    \n",
    "    def full_name(self):\n",
    "        return f\"{self.brand} {self.model}\"\n",
    "    \n",
    "\n",
    "my_car = Car(\"Toyota\", \"Corolla\")\n",
    "print(my_car.brand)\n",
    "print(my_car.model)\n",
    "print(my_car.full_name())"
   ]
  },
  {
   "cell_type": "code",
   "execution_count": 9,
   "id": "45f4753c",
   "metadata": {},
   "outputs": [
    {
     "name": "stdout",
     "output_type": "stream",
     "text": [
      "Tesla Model-S\n",
      "85kwh\n"
     ]
    }
   ],
   "source": [
    "# Inheritance \n",
    "\n",
    "class Car:\n",
    "\n",
    "    def __init__(self, brand, model):  \n",
    "        self.brand = brand\n",
    "        self.model = model\n",
    "    \n",
    "    def full_name(self):\n",
    "        return f\"{self.brand} {self.model}\"\n",
    "    \n",
    "\n",
    "class ElectricCar(Car):   #inherit rhe property of car\n",
    "    def __init__(self, brand, model, battery_size):\n",
    "        super().__init__(brand, model)\n",
    "        self.battery_size = battery_size\n",
    "\n",
    "\n",
    "my_tesla = ElectricCar(\"Tesla\", \"Model-S\", \"85kwh\") \n",
    "print(my_tesla.full_name())\n",
    "print(my_tesla.battery_size)"
   ]
  },
  {
   "cell_type": "code",
   "execution_count": null,
   "id": "c5a09a7f",
   "metadata": {},
   "outputs": [
    {
     "name": "stdout",
     "output_type": "stream",
     "text": [
      "Tesla!\n",
      "85kwh\n"
     ]
    }
   ],
   "source": [
    "#encapsulation\n",
    "\n",
    "\n",
    "class Car:\n",
    "\n",
    "    def __init__(self, brand, model):  #use __ to make private variable in class\n",
    "        self.__brand = brand\n",
    "        self.__model = model\n",
    "        \n",
    "    def get_brand(self):\n",
    "        return self.__brand + \"!\"\n",
    "    \n",
    "    def full_name(self):\n",
    "        return f\"{self.__brand} {self.__model}\"\n",
    "    \n",
    "\n",
    "class ElectricCar(Car):   #inherit rhe property of car\n",
    "    def __init__(self, __brand, __model, battery_size):\n",
    "        super().__init__(__brand, __model)\n",
    "        self.__battery_size = battery_size\n",
    "\n",
    "    def get_battery_size(self):\n",
    "        return self.__battery_size + \"!\"\n",
    "\n",
    "\n",
    "my_tesla = ElectricCar(\"Tesla\", \"Model-S\", \"85kwh\") \n",
    "print(my_tesla.get_brand())\n",
    "print(my_tesla.battery_size)"
   ]
  },
  {
   "cell_type": "code",
   "execution_count": 15,
   "id": "bab6847b",
   "metadata": {},
   "outputs": [
    {
     "name": "stdout",
     "output_type": "stream",
     "text": [
      "Tesla!\n",
      "85kwh!\n",
      "Electric charge\n",
      "Petrol or Diesel\n"
     ]
    }
   ],
   "source": [
    "#polymorphism\n",
    "\n",
    "class Car:\n",
    "\n",
    "    def __init__(self, brand, model):  #use __ to make private variable in class\n",
    "        self.__brand = brand\n",
    "        self.__model = model\n",
    "        \n",
    "    def get_brand(self):\n",
    "        return self.__brand + \"!\"\n",
    "    \n",
    "    def full_name(self):\n",
    "        return f\"{self.__brand} {self.__model}\"\n",
    "    \n",
    "    def fuel_type(self):\n",
    "        return \"Petrol or Diesel\"\n",
    "    \n",
    "\n",
    "class ElectricCar(Car):   #inherit rhe property of car\n",
    "    def __init__(self, __brand, __model, battery_size):\n",
    "        super().__init__(__brand, __model)\n",
    "        self.__battery_size = battery_size\n",
    "\n",
    "    def get_battery_size(self):\n",
    "        return self.__battery_size + \"!\"\n",
    "\n",
    "    def fuel_type(self):\n",
    "        return \"Electric charge\"\n",
    "    \n",
    "\n",
    "\n",
    "\n",
    "my_tesla = ElectricCar(\"Tesla\", \"Model-S\", \"85kwh\") \n",
    "print(my_tesla.get_brand())\n",
    "print(my_tesla.get_battery_size())\n",
    "print(my_tesla.fuel_type())\n",
    "\n",
    "safari = Car(\"Tata\",\"Safari\")\n",
    "print(safari.fuel_type())"
   ]
  },
  {
   "cell_type": "code",
   "execution_count": null,
   "id": "37f2b15e",
   "metadata": {},
   "outputs": [
    {
     "name": "stdout",
     "output_type": "stream",
     "text": [
      "Petrol or Diesel\n",
      "2\n",
      "2\n"
     ]
    }
   ],
   "source": [
    "#class variable - add a class variable to car that keeps track of the number of cars created\n",
    "\n",
    "class Car:\n",
    "    total_car = 0\n",
    "\n",
    "    def __init__(self, brand, model):  \n",
    "        self.__brand = brand\n",
    "        self.__model = model \n",
    "        Car.total_car += 1\n",
    "\n",
    "\n",
    "    def get_brand(self):\n",
    "        return self.__brand + \"!\"\n",
    "    \n",
    "    def full_name(self):\n",
    "        return f\"{self.__brand} {self.__model}\"\n",
    "    \n",
    "    def fuel_type(self):\n",
    "        return \"Petrol or Diesel\"\n",
    "    \n",
    "\n",
    "safari = Car(\"Tata\",\"Safari\")\n",
    "print(safari.fuel_type())\n",
    "print(safari.total_car)\n",
    "\n",
    "test = Car(\"test\", \"test\")\n",
    "print(test.total_car)\n",
    "\n",
    "print(Car.total_car)\n"
   ]
  },
  {
   "cell_type": "code",
   "execution_count": 28,
   "id": "f5765aa9",
   "metadata": {},
   "outputs": [
    {
     "name": "stdout",
     "output_type": "stream",
     "text": [
      "cars are means of transport\n",
      "cars are means of transport\n"
     ]
    }
   ],
   "source": [
    "#static method - add a static method to the car class that returns a general description of a car.\n",
    "\n",
    "class Car:\n",
    "    total_car = 0\n",
    "\n",
    "    def __init__(self, brand, model):  \n",
    "        self.__brand = brand\n",
    "        self.__model = model \n",
    "        Car.total_car += 1\n",
    "\n",
    "\n",
    "    def get_brand(self):\n",
    "        return self.__brand + \"!\"\n",
    "    \n",
    "    def full_name(self):\n",
    "        return f\"{self.__brand} {self.__model}\"\n",
    "    \n",
    "    def fuel_type(self):\n",
    "        return \"Petrol or Diesel\"\n",
    "    \n",
    "    @staticmethod\n",
    "    def general_description():\n",
    "        return \"cars are means of transport\"\n",
    "    \n",
    "\n",
    "my_Car = Car(\"Tata\", \"Safari\")\n",
    "print(my_Car.general_description())\n",
    "print(Car.general_description())\n"
   ]
  },
  {
   "cell_type": "code",
   "execution_count": 36,
   "id": "ab04a0b3",
   "metadata": {},
   "outputs": [
    {
     "name": "stdout",
     "output_type": "stream",
     "text": [
      "Safari\n"
     ]
    }
   ],
   "source": [
    "#property decorators - use a property decorater in the car class to make the model attribute read-only.\n",
    "\n",
    "class Car:\n",
    "    total_car = 0\n",
    "\n",
    "    def __init__(self, brand, model):  \n",
    "        self.__brand = brand\n",
    "        self.__model = model \n",
    "        Car.total_car += 1\n",
    "\n",
    "\n",
    "    def get_brand(self):\n",
    "        return self.__brand + \"!\"\n",
    "    \n",
    "    def full_name(self):\n",
    "        return f\"{self.__brand} {self.__model}\"\n",
    "    \n",
    "    def fuel_type(self):\n",
    "        return \"Petrol or Diesel\"\n",
    "    \n",
    "    @staticmethod\n",
    "    def general_description():\n",
    "        return \"cars are means of transport\"\n",
    "    \n",
    "    @property\n",
    "    def model(self):\n",
    "        return self.__model\n",
    "    \n",
    "\n",
    "my_Car = Car(\"Tata\", \"Safari\")\n",
    "# my_Car.model = \"city\"\n",
    "print(my_Car.model)\n",
    "\n"
   ]
  },
  {
   "cell_type": "code",
   "execution_count": 37,
   "id": "5ca10e34",
   "metadata": {},
   "outputs": [
    {
     "name": "stdout",
     "output_type": "stream",
     "text": [
      "True\n",
      "True\n"
     ]
    }
   ],
   "source": [
    "#class Inheritance and isinstance() function - demonstrate the use of isinstance() to check if my_tesla is an instance of car and electric car.\n",
    "\n",
    "class Car:\n",
    "\n",
    "    def __init__(self, brand, model):  #use __ to make private variable in class\n",
    "        self.__brand = brand\n",
    "        self.__model = model\n",
    "        \n",
    "    def get_brand(self):\n",
    "        return self.__brand + \"!\"\n",
    "    \n",
    "    def full_name(self):\n",
    "        return f\"{self.__brand} {self.__model}\"\n",
    "    \n",
    "    def fuel_type(self):\n",
    "        return \"Petrol or Diesel\"\n",
    "    \n",
    "\n",
    "class ElectricCar(Car):   #inherit rhe property of car\n",
    "    def __init__(self, __brand, __model, battery_size):\n",
    "        super().__init__(__brand, __model)\n",
    "        self.__battery_size = battery_size\n",
    "\n",
    "    def get_battery_size(self):\n",
    "        return self.__battery_size + \"!\"\n",
    "\n",
    "    def fuel_type(self):\n",
    "        return \"Electric charge\"\n",
    "    \n",
    "\n",
    "\n",
    "\n",
    "my_tesla = ElectricCar(\"Tesla\", \"Model-S\", \"85kwh\") \n",
    "# print(my_tesla.get_brand())\n",
    "print(isinstance(my_tesla, Car))\n",
    "print(isinstance(my_tesla, ElectricCar))"
   ]
  },
  {
   "cell_type": "code",
   "execution_count": 39,
   "id": "232b7322",
   "metadata": {},
   "outputs": [
    {
     "name": "stdout",
     "output_type": "stream",
     "text": [
      "This is battery\n",
      "This is engine\n"
     ]
    }
   ],
   "source": [
    "# Multiple inheritance - create two class battery and engine, and let the ElectricCar class inherit from both, demonstrating multiple inheritance. \n",
    "\n",
    "\n",
    "class Battery:\n",
    "    def battery_info(self):\n",
    "        return \"This is battery\"\n",
    "\n",
    "class Engine:\n",
    "    def engine_info(self):\n",
    "        return \"This is engine\"\n",
    "\n",
    "class ElectricCarTwo(Battery, Engine, Car):\n",
    "    pass\n",
    "\n",
    "my_new_tesla = ElectricCarTwo(\"Tesla\", \"Model-S\")\n",
    "print(my_new_tesla.battery_info())\n",
    "print(my_new_tesla.engine_info())"
   ]
  }
 ],
 "metadata": {
  "kernelspec": {
   "display_name": "Python 3",
   "language": "python",
   "name": "python3"
  },
  "language_info": {
   "codemirror_mode": {
    "name": "ipython",
    "version": 3
   },
   "file_extension": ".py",
   "mimetype": "text/x-python",
   "name": "python",
   "nbconvert_exporter": "python",
   "pygments_lexer": "ipython3",
   "version": "3.10.11"
  }
 },
 "nbformat": 4,
 "nbformat_minor": 5
}
