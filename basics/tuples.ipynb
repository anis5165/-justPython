{
 "cells": [
  {
   "cell_type": "code",
   "execution_count": 5,
   "id": "2866b312",
   "metadata": {},
   "outputs": [
    {
     "name": "stdout",
     "output_type": "stream",
     "text": [
      "('Black', 'Green', 'Oolong')\n",
      "Black\n",
      "Oolong\n"
     ]
    },
    {
     "data": {
      "text/plain": [
       "3"
      ]
     },
     "execution_count": 5,
     "metadata": {},
     "output_type": "execute_result"
    }
   ],
   "source": [
    "tea_types = (\"Black\", \"Green\", \"Oolong\")\n",
    "\n",
    "print(tea_types)\n",
    "\n",
    "print(tea_types[0])\n",
    "print(tea_types[-1])\n",
    "\n",
    "\n",
    "# tea_types[0] = \"Lemon\" #not possible\n",
    "\n",
    "\n",
    "len(tea_types)"
   ]
  },
  {
   "cell_type": "code",
   "execution_count": 7,
   "id": "054033da",
   "metadata": {},
   "outputs": [
    {
     "name": "stdout",
     "output_type": "stream",
     "text": [
      "('herbal', 'earl grey', 'Black', 'Green', 'Oolong')\n",
      "I have green tea\n"
     ]
    }
   ],
   "source": [
    "more_tea = (\"herbal\", \"earl grey\")\n",
    "\n",
    "all_tea = more_tea + tea_types\n",
    "\n",
    "print(all_tea)\n",
    "\n",
    "\n",
    "if \"Green\" in all_tea:\n",
    "    print(\"I have green tea\")"
   ]
  },
  {
   "cell_type": "code",
   "execution_count": 9,
   "id": "a2e68910",
   "metadata": {},
   "outputs": [
    {
     "name": "stdout",
     "output_type": "stream",
     "text": [
      "('Herbal', 'Earl Grey', 'Herbal')\n"
     ]
    },
    {
     "data": {
      "text/plain": [
       "2"
      ]
     },
     "execution_count": 9,
     "metadata": {},
     "output_type": "execute_result"
    }
   ],
   "source": [
    "more_tea = (\"Herbal\", \"Earl Grey\", \"Herbal\")\n",
    "\n",
    "print(more_tea)\n",
    "\n",
    "more_tea.count(\"Herbal\")"
   ]
  },
  {
   "cell_type": "code",
   "execution_count": 13,
   "id": "175900f3",
   "metadata": {},
   "outputs": [
    {
     "name": "stdout",
     "output_type": "stream",
     "text": [
      "('Black', 'Green', 'Oolong')\n"
     ]
    },
    {
     "data": {
      "text/plain": [
       "tuple"
      ]
     },
     "execution_count": 13,
     "metadata": {},
     "output_type": "execute_result"
    }
   ],
   "source": [
    "print(tea_types)\n",
    "\n",
    "(black, green, oolong) = tea_types\n",
    "\n",
    "type(tea_types)"
   ]
  },
  {
   "cell_type": "code",
   "execution_count": 14,
   "id": "f6b506b9",
   "metadata": {},
   "outputs": [
    {
     "name": "stdout",
     "output_type": "stream",
     "text": [
      "('1', (1, 2, 3), '4')\n"
     ]
    }
   ],
   "source": [
    "nums = (\"1\", (1,2,3),\"4\")\n",
    "print(nums)"
   ]
  }
 ],
 "metadata": {
  "kernelspec": {
   "display_name": "Python 3",
   "language": "python",
   "name": "python3"
  },
  "language_info": {
   "codemirror_mode": {
    "name": "ipython",
    "version": 3
   },
   "file_extension": ".py",
   "mimetype": "text/x-python",
   "name": "python",
   "nbconvert_exporter": "python",
   "pygments_lexer": "ipython3",
   "version": "3.10.11"
  }
 },
 "nbformat": 4,
 "nbformat_minor": 5
}
