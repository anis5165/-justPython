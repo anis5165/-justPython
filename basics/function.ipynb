{
 "cells": [
  {
   "cell_type": "code",
   "execution_count": 10,
   "id": "74430a22",
   "metadata": {},
   "outputs": [
    {
     "name": "stdout",
     "output_type": "stream",
     "text": [
      "625\n",
      "4\n"
     ]
    }
   ],
   "source": [
    "# write a function to calculate and return the square of a number\n",
    "\n",
    "def square(num):\n",
    "    print(num**2)\n",
    "\n",
    "square(25)\n",
    "\n",
    "\n",
    "\n",
    "def squ(num):\n",
    "    return num**2\n",
    "\n",
    "res = squ(2)\n",
    "print(res)"
   ]
  },
  {
   "cell_type": "code",
   "execution_count": 11,
   "id": "f7c60307",
   "metadata": {},
   "outputs": [
    {
     "name": "stdout",
     "output_type": "stream",
     "text": [
      "6\n"
     ]
    }
   ],
   "source": [
    "#function with multiple parameters - two number return their sum\n",
    "\n",
    "def add(n,m):\n",
    "    return n+m\n",
    "\n",
    "res = add(2,4)\n",
    "print(res)"
   ]
  },
  {
   "cell_type": "code",
   "execution_count": 12,
   "id": "d8382d35",
   "metadata": {},
   "outputs": [
    {
     "name": "stdout",
     "output_type": "stream",
     "text": [
      "8\n",
      "hhhh\n",
      "cc\n"
     ]
    }
   ],
   "source": [
    "#polymorphism in funtions - write a function multiply that multiplies ywo numbers, but can also accept and multiply strings.\n",
    "\n",
    "def multiply(p1,p2):\n",
    "    return p1 * p2\n",
    "\n",
    "print(multiply(2,4))\n",
    "print(multiply('h',4))\n",
    "print(multiply(2,'c'))\n"
   ]
  },
  {
   "cell_type": "code",
   "execution_count": 20,
   "id": "1f055e50",
   "metadata": {},
   "outputs": [
    {
     "name": "stdout",
     "output_type": "stream",
     "text": [
      "Area of circle: 113.09733552923255 Circumference of circle : 37.69911184307752\n"
     ]
    }
   ],
   "source": [
    "import math\n",
    "def circle_stats(radius):\n",
    "    area = math.pi * radius ** 2\n",
    "    parimeter = 2 * math.pi * radius\n",
    "    return area,parimeter\n",
    "\n",
    "a, c = circle_stats(6)\n",
    "\n",
    "print(\"Area of circle:\",a, \"Circumference of circle :\",c)"
   ]
  },
  {
   "cell_type": "code",
   "execution_count": 23,
   "id": "2ea80884",
   "metadata": {},
   "outputs": [
    {
     "name": "stdout",
     "output_type": "stream",
     "text": [
      "Hello, anish!\n"
     ]
    }
   ],
   "source": [
    "#default parameter value\n",
    "\n",
    "def greet(name = \"unknown\"):\n",
    "    return \"Hello, \" + name + \"!\"\n",
    "\n",
    "print(greet(\"anish\"))"
   ]
  },
  {
   "cell_type": "code",
   "execution_count": null,
   "id": "66865b9a",
   "metadata": {},
   "outputs": [
    {
     "name": "stdout",
     "output_type": "stream",
     "text": [
      "27\n"
     ]
    }
   ],
   "source": [
    "#lambda function - to compute the cube of a number (lambda function jinka naam nhi hota hai)\n",
    "\n",
    "cube = lambda x: x ** 3\n",
    "\n",
    "print(cube(3))\n"
   ]
  },
  {
   "cell_type": "code",
   "execution_count": null,
   "id": "c9bdb239",
   "metadata": {},
   "outputs": [],
   "source": []
  }
 ],
 "metadata": {
  "kernelspec": {
   "display_name": "Python 3",
   "language": "python",
   "name": "python3"
  },
  "language_info": {
   "codemirror_mode": {
    "name": "ipython",
    "version": 3
   },
   "file_extension": ".py",
   "mimetype": "text/x-python",
   "name": "python",
   "nbconvert_exporter": "python",
   "pygments_lexer": "ipython3",
   "version": "3.10.11"
  }
 },
 "nbformat": 4,
 "nbformat_minor": 5
}
