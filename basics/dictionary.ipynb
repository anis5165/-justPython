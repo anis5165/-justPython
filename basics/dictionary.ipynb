{
 "cells": [
  {
   "cell_type": "code",
   "execution_count": 5,
   "id": "6743a634",
   "metadata": {},
   "outputs": [
    {
     "name": "stdout",
     "output_type": "stream",
     "text": [
      "{'Masala': 'Spicy', 'Ginger': 'Zesty', 'Green': 'Mild'}\n",
      "Spicy\n",
      "Zesty\n",
      "None\n"
     ]
    }
   ],
   "source": [
    "chai_types = {\"Masala\": \"Spicy\", \"Ginger\": \"Zesty\", \"Green\": \"Mild\"}\n",
    "print(chai_types)\n",
    "\n",
    "print(chai_types[\"Masala\"])\n",
    "print(chai_types.get(\"Ginger\"))\n",
    "\n",
    "print(chai_types.get(\"Gingery\"))"
   ]
  },
  {
   "cell_type": "code",
   "execution_count": 13,
   "id": "e7801d94",
   "metadata": {},
   "outputs": [
    {
     "name": "stdout",
     "output_type": "stream",
     "text": [
      "{'Masala': 'Spicy', 'Ginger': 'Zesty', 'Green': 'Fresh'}\n",
      "{'Masala': 'Spicy', 'Ginger': 'Zesty', 'Green': 'Fresh'}\n",
      "---------\n",
      "Masala\n",
      "Ginger\n",
      "Green\n",
      "---------\n",
      "Masala Spicy\n",
      "Ginger Zesty\n",
      "Green Fresh\n",
      "---------\n",
      "Masala Spicy\n",
      "Ginger Zesty\n",
      "Green Fresh\n",
      "---------\n",
      "I have masala chai\n",
      "---------\n",
      "{'Masala': 'Spicy', 'Ginger': 'Zesty', 'Green': 'Fresh'}\n"
     ]
    }
   ],
   "source": [
    "print(chai_types)\n",
    "\n",
    "chai_types[\"Green\"] = \"Fresh\"\n",
    "print(chai_types)\n",
    "print(\"---------\")\n",
    "for chai in chai_types:\n",
    "    print(chai)\n",
    "\n",
    "\n",
    "print(\"---------\")\n",
    "\n",
    "for chai in chai_types:\n",
    "    print(chai, chai_types[chai])\n",
    "\n",
    "\n",
    "print(\"---------\")\n",
    "\n",
    "for key, value in chai_types.items():\n",
    "    print(key,value)\n",
    "\n",
    "\n",
    "\n",
    "print(\"---------\")\n",
    "\n",
    "\n",
    "if \"Masala\" in chai_types:\n",
    "    print(\"I have masala chai\")\n",
    "\n",
    "\n",
    "print(\"---------\")\n",
    "print(chai_types)"
   ]
  },
  {
   "cell_type": "code",
   "execution_count": 20,
   "id": "3087d803",
   "metadata": {},
   "outputs": [
    {
     "name": "stdout",
     "output_type": "stream",
     "text": [
      "{'Masala': 'Spicy'}\n",
      "--------\n",
      "{'Masala': 'Spicy', 'Earl Grey': 'citrus'}\n",
      "--------\n",
      "--------\n",
      "{'Masala': 'Spicy'}\n",
      "--------\n"
     ]
    }
   ],
   "source": [
    "print(chai_types)\n",
    "\n",
    "print(\"--------\")\n",
    "\n",
    "chai_types[\"Earl Grey\"] = \"citrus\"\n",
    "print(chai_types)\n",
    "\n",
    "\n",
    "print(\"--------\")\n",
    "\n",
    "# chai_types.pop(\"Ginger\")\n",
    "# print(chai_types)\n",
    "\n",
    "\n",
    "\n",
    "print(\"--------\")\n",
    "\n",
    "chai_types.popitem()\n",
    "print(chai_types)\n",
    "\n",
    "\n",
    "print(\"--------\")\n",
    "\n",
    "# del chai_types[\"Green\"]\n",
    "# print(chai_types)\n"
   ]
  },
  {
   "cell_type": "code",
   "execution_count": 23,
   "id": "96ea4607",
   "metadata": {},
   "outputs": [
    {
     "name": "stdout",
     "output_type": "stream",
     "text": [
      "{'chai': {'Masala': 'Spicy', 'Ginger': 'Zasty'}, 'tea': {'Green': 'Mild', 'Black': 'Strong'}}\n",
      "--------\n",
      "{'Masala': 'Spicy', 'Ginger': 'Zasty'}\n",
      "--------\n",
      "Zasty\n"
     ]
    }
   ],
   "source": [
    "chai_types_copy = chai_types.copy()\n",
    "\n",
    "tea_shop = {\n",
    "    \"chai\": {\"Masala\": \"Spicy\", \"Ginger\": \"Zasty\"},\n",
    "    \"tea\": {\"Green\": \"Mild\", \"Black\": \"Strong\"}\n",
    "}\n",
    "\n",
    "\n",
    "print(tea_shop)\n",
    "\n",
    "print(\"--------\")\n",
    "\n",
    "print(tea_shop[\"chai\"])\n",
    "\n",
    "\n",
    "\n",
    "print(\"--------\")\n",
    "\n",
    "print(tea_shop[\"chai\"][\"Ginger\"])"
   ]
  },
  {
   "cell_type": "code",
   "execution_count": null,
   "id": "775fd4be",
   "metadata": {},
   "outputs": [
    {
     "name": "stdout",
     "output_type": "stream",
     "text": [
      "{0: 0, 1: 1, 2: 4, 3: 9, 4: 16, 5: 25}\n",
      "{}\n"
     ]
    }
   ],
   "source": [
    "squared_nums = {x:x**2 for x in range(6)}\n",
    "\n",
    "print(squared_nums)\n",
    "\n",
    "print(\"--------\")\n",
    "\n",
    "\n",
    "squared_nums.clear()\n",
    "print(squared_nums)"
   ]
  },
  {
   "cell_type": "code",
   "execution_count": 28,
   "id": "770e69a9",
   "metadata": {},
   "outputs": [
    {
     "name": "stdout",
     "output_type": "stream",
     "text": [
      "['Masala', 'Ginger', 'Lemon']\n",
      "--------\n",
      "{'Masala': 'Delicious', 'Ginger': 'Delicious', 'Lemon': 'Delicious'}\n",
      "--------\n",
      "{'Masala': ['Masala', 'Ginger', 'Lemon'], 'Ginger': ['Masala', 'Ginger', 'Lemon'], 'Lemon': ['Masala', 'Ginger', 'Lemon']}\n"
     ]
    }
   ],
   "source": [
    "keys = [\"Masala\", \"Ginger\", \"Lemon\"]\n",
    "\n",
    "print(keys)\n",
    "\n",
    "print(\"--------\")\n",
    "\n",
    "default_values = \"Delicious\"\n",
    "\n",
    "new_dict = dict.fromkeys(keys, default_values)\n",
    "\n",
    "print(new_dict)\n",
    "\n",
    "\n",
    "print(\"--------\")\n",
    "\n",
    "\n",
    "new_dict = dict.fromkeys(keys, keys)\n",
    "print(new_dict)"
   ]
  }
 ],
 "metadata": {
  "kernelspec": {
   "display_name": "Python 3",
   "language": "python",
   "name": "python3"
  },
  "language_info": {
   "codemirror_mode": {
    "name": "ipython",
    "version": 3
   },
   "file_extension": ".py",
   "mimetype": "text/x-python",
   "name": "python",
   "nbconvert_exporter": "python",
   "pygments_lexer": "ipython3",
   "version": "3.10.11"
  }
 },
 "nbformat": 4,
 "nbformat_minor": 5
}
