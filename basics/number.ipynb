{
 "cells": [
  {
   "cell_type": "code",
   "execution_count": 24,
   "id": "22540dd5",
   "metadata": {},
   "outputs": [
    {
     "data": {
      "text/plain": [
       "10715086071862673209484250490600018105614048117055336074437503883703510511249361224931983788156958581275946729175531468251871452856923140435984577574698574803934567774824230985421074605062371141877954182153046474983581941267398767559165543946077062914571196477686542167660429831652624386837205668069376"
      ]
     },
     "execution_count": 24,
     "metadata": {},
     "output_type": "execute_result"
    }
   ],
   "source": [
    "x = 2\n",
    "y = 3\n",
    "z = 4\n",
    "# print(x + (y * z))\n",
    "x,y,z\n",
    "\n",
    "x+1,y*2\n",
    "z ** 3\n",
    "2**1000"
   ]
  },
  {
   "cell_type": "code",
   "execution_count": 25,
   "id": "af7f0047",
   "metadata": {},
   "outputs": [
    {
     "data": {
      "text/plain": [
       "2"
      ]
     },
     "execution_count": 25,
     "metadata": {},
     "output_type": "execute_result"
    }
   ],
   "source": [
    "40+2.24\n",
    "int(2.23)"
   ]
  },
  {
   "cell_type": "code",
   "execution_count": 28,
   "id": "69540c0e",
   "metadata": {},
   "outputs": [
    {
     "name": "stdout",
     "output_type": "stream",
     "text": [
      "chai\n"
     ]
    }
   ],
   "source": [
    "'chai' + 'code'\n",
    "\n",
    "repr('chai')\n",
    "str('chai')\n",
    "print('chai')"
   ]
  },
  {
   "cell_type": "code",
   "execution_count": 23,
   "id": "ea7d5534",
   "metadata": {},
   "outputs": [
    {
     "data": {
      "text/plain": [
       "0.3333333333333333"
      ]
     },
     "execution_count": 23,
     "metadata": {},
     "output_type": "execute_result"
    }
   ],
   "source": [
    "result = 1/3.0\n",
    "result"
   ]
  },
  {
   "cell_type": "code",
   "execution_count": null,
   "id": "090b84a1",
   "metadata": {},
   "outputs": [
    {
     "name": "stdout",
     "output_type": "stream",
     "text": [
      "True\n",
      "True\n",
      "True\n",
      "True\n",
      "False\n"
     ]
    }
   ],
   "source": [
    "# comparison \n",
    "print(1<2)\n",
    "print(5.0==5)\n",
    "print(4.0 != 5.0)\n",
    "print(x<y<z)       # print(x < y and y < z)\n",
    "print(1 == 2 < 3)"
   ]
  },
  {
   "cell_type": "code",
   "execution_count": null,
   "id": "1e2ee4cf",
   "metadata": {},
   "outputs": [
    {
     "name": "stdout",
     "output_type": "stream",
     "text": [
      "3\n",
      "-4\n",
      "3\n",
      "-------------------\n",
      "2\n",
      "-2\n"
     ]
    }
   ],
   "source": [
    "import math\n",
    " \n",
    "print(math.floor(3.5))     #nearest smaller integer value \n",
    "print(math.floor(-3.5))\n",
    "print(math.floor(3.9))\n",
    "print('-------------')\n",
    "print(math.trunc(2.8))   #0 ke pass leke jayega ye e.g. think about number line\n",
    "print(math.trunc(-2.8))   "
   ]
  },
  {
   "cell_type": "code",
   "execution_count": 47,
   "id": "c87368df",
   "metadata": {},
   "outputs": [
    {
     "name": "stdout",
     "output_type": "stream",
     "text": [
      "10000000000000000000000000000\n"
     ]
    },
    {
     "data": {
      "text/plain": [
       "2.1e+28"
      ]
     },
     "execution_count": 47,
     "metadata": {},
     "output_type": "execute_result"
    }
   ],
   "source": [
    "print(9999999999999999999999999999 + 1)\n",
    "9999999999999999999999999999 * 2.1"
   ]
  },
  {
   "cell_type": "code",
   "execution_count": 53,
   "id": "0b22f47d",
   "metadata": {},
   "outputs": [
    {
     "name": "stdout",
     "output_type": "stream",
     "text": [
      "(2+3j)\n",
      "(2+3j)\n",
      "(6+3j)\n"
     ]
    }
   ],
   "source": [
    "# imaginary number\n",
    "print(2 + 3j)\n",
    "print(2 + 1j *3)\n",
    "print((2 + 1j) * 3)"
   ]
  },
  {
   "cell_type": "code",
   "execution_count": null,
   "id": "81a5e9b5",
   "metadata": {},
   "outputs": [
    {
     "name": "stdout",
     "output_type": "stream",
     "text": [
      "16\n",
      "255\n",
      "-------------\n",
      "0o11\n",
      "0x40\n",
      "0b1000000\n",
      "-------------\n",
      "52\n",
      "100\n",
      "8\n"
     ]
    }
   ],
   "source": [
    "#octal number (0 - 7)\n",
    "print(0o20)\n",
    "\n",
    "#hexadecimal (0 - 15) \n",
    "print(0xFF)\n",
    "print('-------------')\n",
    "\n",
    "print(oct(9))\n",
    "print(hex(64))\n",
    "print(bin(64))\n",
    "print('-------------')\n",
    "\n",
    "print(int('64', 8))   #convert octal\n",
    "print(int('64', 16))  # convert hexa\n",
    "print(int('1000', 2))  #convert decimal\n"
   ]
  },
  {
   "cell_type": "code",
   "execution_count": 64,
   "id": "17baecfd",
   "metadata": {},
   "outputs": [
    {
     "data": {
      "text/plain": [
       "4"
      ]
     },
     "execution_count": 64,
     "metadata": {},
     "output_type": "execute_result"
    }
   ],
   "source": [
    "# bitwise operation\n",
    "x = 1\n",
    "x << 2"
   ]
  },
  {
   "cell_type": "code",
   "execution_count": 91,
   "id": "1a706f70",
   "metadata": {},
   "outputs": [
    {
     "name": "stdout",
     "output_type": "stream",
     "text": [
      "16\n",
      "-------\n",
      "ginger\n",
      "-------\n",
      "['ginger', 'lemon', 'mint', 'masala']\n"
     ]
    }
   ],
   "source": [
    "import random\n",
    "random.random()\n",
    "random.random()\n",
    "\n",
    "print(random.randint(1,100))\n",
    "print('-------')\n",
    "\n",
    "l1 = ['lemon','masala','ginger','mint']\n",
    "print(random.choice(l1))\n",
    "\n",
    "print('-------')\n",
    "\n",
    "random.shuffle(l1)\n",
    "print(l1)"
   ]
  },
  {
   "cell_type": "code",
   "execution_count": null,
   "id": "a3d3f615",
   "metadata": {},
   "outputs": [
    {
     "name": "stdout",
     "output_type": "stream",
     "text": [
      "5.551115123125783e-17\n"
     ]
    },
    {
     "data": {
      "text/plain": [
       "Decimal('0.0')"
      ]
     },
     "execution_count": 96,
     "metadata": {},
     "output_type": "execute_result"
    }
   ],
   "source": [
    "# 0.1 + 0.4 + 0.1\n",
    "\n",
    "print(0.1 + 0.1 + 0.1 - 0.3)\n",
    "\n",
    "\n",
    "from decimal import Decimal\n",
    "\n",
    "Decimal('0.1') + Decimal('0.1') + Decimal('0.1') - Decimal('0.3') "
   ]
  },
  {
   "cell_type": "code",
   "execution_count": 98,
   "id": "5916f045",
   "metadata": {},
   "outputs": [
    {
     "data": {
      "text/plain": [
       "Fraction(2, 7)"
      ]
     },
     "execution_count": 98,
     "metadata": {},
     "output_type": "execute_result"
    }
   ],
   "source": [
    "from fractions import Fraction\n",
    "\n",
    "myFra = Fraction(2,7)\n",
    "myFra\n"
   ]
  },
  {
   "cell_type": "code",
   "execution_count": 103,
   "id": "8a4c097b",
   "metadata": {},
   "outputs": [
    {
     "data": {
      "text/plain": [
       "dict"
      ]
     },
     "execution_count": 103,
     "metadata": {},
     "output_type": "execute_result"
    }
   ],
   "source": [
    "#set\n",
    "\n",
    "setone = {1,2,3,4,5}\n",
    "setone & {1,3}   #intersection\n",
    "\n",
    "setone | {1,3}   #union\n",
    "setone | {1,3,7}   \n",
    "\n",
    "\n",
    "setone - {1,2,3,4,5}\n",
    "type({})"
   ]
  },
  {
   "cell_type": "code",
   "execution_count": 108,
   "id": "77342774",
   "metadata": {},
   "outputs": [
    {
     "name": "stdout",
     "output_type": "stream",
     "text": [
      "6\n"
     ]
    }
   ],
   "source": [
    "#boolean type\n",
    "True == 1\n",
    "False == 1\n",
    "\n",
    "# print(True is 1)\n",
    "\n",
    "print(False + 6)"
   ]
  }
 ],
 "metadata": {
  "kernelspec": {
   "display_name": "Python 3",
   "language": "python",
   "name": "python3"
  },
  "language_info": {
   "codemirror_mode": {
    "name": "ipython",
    "version": 3
   },
   "file_extension": ".py",
   "mimetype": "text/x-python",
   "name": "python",
   "nbconvert_exporter": "python",
   "pygments_lexer": "ipython3",
   "version": "3.10.11"
  }
 },
 "nbformat": 4,
 "nbformat_minor": 5
}
