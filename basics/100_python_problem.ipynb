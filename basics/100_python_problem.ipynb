{
 "cells": [
  {
   "cell_type": "code",
   "execution_count": 8,
   "id": "71d0ccdc",
   "metadata": {},
   "outputs": [
    {
     "name": "stdout",
     "output_type": "stream",
     "text": [
      "Older is:  40\n"
     ]
    }
   ],
   "source": [
    "#01. - user will input (3ages).Find the oldest one\n",
    "\n",
    "age = int(input(\"Enter age\"))\n",
    "age1 = int(input(\"Enter age\"))\n",
    "age2 = int(input(\"Enter age\"))\n",
    "\n",
    "if age > age1:\n",
    "    if age > age2:\n",
    "        print(\"Older is : \", age)\n",
    "    else:\n",
    "        print(\"Older is: \", age2)\n",
    "elif age1 > age2:\n",
    "        print(\"Older is: \", age1)\n",
    "else:\n",
    "       print(\"Older is: \", age2)\n",
    "     \n",
    "    \n"
   ]
  },
  {
   "cell_type": "code",
   "execution_count": null,
   "id": "4b97dbab",
   "metadata": {},
   "outputs": [
    {
     "name": "stdout",
     "output_type": "stream",
     "text": [
      "Converted temperture is:  95.0\n"
     ]
    }
   ],
   "source": [
    "#2. Write a program that will convert celsius value to fahrenheit\n",
    "\n",
    "def infahrenheit(temp):\n",
    "    return ((9/5)*temp) + 32\n",
    "\n",
    "temperature = int(input(\"Enter the temperature in celsius\"))\n",
    "\n",
    "converted_temp = infahrenheit(temperature)\n",
    "\n",
    "print(\"Converted temperture is: \", converted_temp)\n"
   ]
  },
  {
   "cell_type": "code",
   "execution_count": null,
   "id": "c76a5c14",
   "metadata": {},
   "outputs": [
    {
     "name": "stdout",
     "output_type": "stream",
     "text": [
      "Given number is (20, 60)\n",
      "Swaped number is (60, 20)\n"
     ]
    }
   ],
   "source": [
    "#3. - User will input (2numbers). Write a program to swap the numbers\n",
    "\n",
    "def swap(a,b):\n",
    "    temp = a\n",
    "    a = b\n",
    "    b = temp\n",
    "    return a,b\n",
    "\n",
    "a = int(input(\"Enter first number\"))\n",
    "b = int(input(\"Enter second number\"))\n",
    "print(\"Given number is\",(a,b))\n",
    "\n",
    "(c,d) = swap(a,b)\n",
    "\n",
    "print(\"Swaped number is\",(c,d))\n"
   ]
  },
  {
   "cell_type": "code",
   "execution_count": null,
   "id": "af7a5757",
   "metadata": {},
   "outputs": [
    {
     "name": "stdout",
     "output_type": "stream",
     "text": [
      "Given number is (20, 30, 50)\n",
      "Sum is :  100\n"
     ]
    }
   ],
   "source": [
    "# 4. - Write a program that will give you the sum of 3 digits\n",
    "\n",
    "def add(a,b,c):\n",
    "    return a+b+c\n",
    "\n",
    "a = int(input(\"Enter first number\"))\n",
    "b = int(input(\"Enter second number\"))\n",
    "c = int(input(\"Enter third number\"))\n",
    "print(\"Given number is\",(a,b,c))\n",
    "\n",
    "print(\"Sum is : \", add(a,b,c))\n"
   ]
  },
  {
   "cell_type": "code",
   "execution_count": null,
   "id": "9a2c956b",
   "metadata": {},
   "outputs": [
    {
     "name": "stdout",
     "output_type": "stream",
     "text": [
      "Given number is: 12345\n",
      "Please enter a four digit number\n",
      "Reversed number is:  None\n"
     ]
    }
   ],
   "source": [
    "#5. - Write a program that will reverse a four digit number.Also it checks whether the reverse is true.\n",
    "\n",
    "def reverse(a):\n",
    "    if len(a)==4:\n",
    "        rev = a[::-1]  #slicing backward travel in string\n",
    "        return rev\n",
    "    else:\n",
    "        print(\"Please enter a four digit number\")\n",
    "        return None\n",
    "\n",
    "a = input(\"Enter number\")\n",
    "print(\"Given number is:\",a)\n",
    "\n",
    "print(\"Reversed number is: \",reverse(a))"
   ]
  },
  {
   "cell_type": "code",
   "execution_count": null,
   "id": "8b11c688",
   "metadata": {},
   "outputs": [
    {
     "name": "stdout",
     "output_type": "stream",
     "text": [
      "Given number is: 25\n",
      "Given number is Odd.\n"
     ]
    }
   ],
   "source": [
    "#6. -  Write a program that will tell whether the number entered by the user is odd or even.\n",
    "\n",
    "a = int(input(\"Enter number\"))\n",
    "print(\"Given number is:\",a)\n",
    "\n",
    "if (a % 2) == 0:\n",
    "    print(\"Given number is Even.\")\n",
    "else:\n",
    "    print(\"Given number is Odd.\")"
   ]
  },
  {
   "cell_type": "code",
   "execution_count": null,
   "id": "9907d749",
   "metadata": {},
   "outputs": [
    {
     "name": "stdout",
     "output_type": "stream",
     "text": [
      "Given year is: 2028\n",
      "Given year is leap year\n"
     ]
    }
   ],
   "source": [
    "#7. - Write a program that will tell whether the given year is a leap year or not.\n",
    "\n",
    "a = int(input(\"Enter Year\"))\n",
    "print(\"Given year is:\",a)\n",
    "\n",
    "if a % 4 == 0:\n",
    "    print(\"Given year is leap year\")\n",
    "else:\n",
    "    print(\"Given year is not leap year\")"
   ]
  },
  {
   "cell_type": "code",
   "execution_count": 37,
   "id": "6b1385e7",
   "metadata": {},
   "outputs": [
    {
     "name": "stdout",
     "output_type": "stream",
     "text": [
      "Given coordinate is: (3, 4)\n",
      "Given coordinate is: (7, 1)\n",
      "The euclidean distance between two coordinates is: 5.0\n"
     ]
    }
   ],
   "source": [
    "#8. - Write a program to find the euclidean distance between two coordinates.\n",
    "\n",
    "import math\n",
    "\n",
    "a = int(input(\"Enter x1\"))\n",
    "b = int(input(\"Enter y1\"))\n",
    "c = int(input(\"Enter x2\"))\n",
    "d = int(input(\"Enter y2\"))\n",
    "print(\"Given coordinate is:\",(a,b))\n",
    "print(\"Given coordinate is:\",(c,d))\n",
    "\n",
    "euclidean_distance = math.sqrt((c-a)**2 + (d-b)**2)\n",
    "\n",
    "print(\"The euclidean distance between two coordinates is:\",euclidean_distance)\n"
   ]
  },
  {
   "cell_type": "code",
   "execution_count": 42,
   "id": "a73fceca",
   "metadata": {},
   "outputs": [
    {
     "name": "stdout",
     "output_type": "stream",
     "text": [
      "Given angle is: (45, 45, 90)\n",
      "Yes it can form a triangle\n"
     ]
    }
   ],
   "source": [
    "#9. - Write a program that take a user input of three angles and will find out whether it can form a triangle or not.\n",
    "\n",
    "a = int(input(\"Enter first angle\"))\n",
    "b = int(input(\"Enter second angle\"))\n",
    "c = int(input(\"Enter third angle\"))\n",
    "print(\"Given angle is:\",(a,b,c))\n",
    "\n",
    "if a>0 and b>0 and c>0 and (a+b+c) == 180:\n",
    "    print(\"Yes it can form a triangle\")\n",
    "else:\n",
    "    print(\"No, it cannot form a triangle\")"
   ]
  },
  {
   "cell_type": "code",
   "execution_count": 46,
   "id": "2f031cd5",
   "metadata": {},
   "outputs": [
    {
     "name": "stdout",
     "output_type": "stream",
     "text": [
      "Given cost and sell price is: (98564, 2356)\n",
      "Loss!! - 96208\n"
     ]
    }
   ],
   "source": [
    "#10. - Write a program that will take user input of cost price and selling price and determines whether its a loss or a profit\n",
    "\n",
    "a = int(input(\"Enter cost price\"))\n",
    "b = int(input(\"Enter sell price\"))\n",
    "print(\"Given cost and sell price is:\",(a,b))\n",
    "\n",
    "\n",
    "if a>b:\n",
    "    print(\"Loss!! -\",(a-b))\n",
    "else:\n",
    "    print(\"Profit!! -\",(b-a))"
   ]
  },
  {
   "cell_type": "code",
   "execution_count": 49,
   "id": "7a59dc3c",
   "metadata": {},
   "outputs": [
    {
     "name": "stdout",
     "output_type": "stream",
     "text": [
      "Given value is: (25000, 3, 25)\n",
      "Simple Interest is - 18750.0\n"
     ]
    }
   ],
   "source": [
    "#11. - Write a program to find the simple interest when the value of principle,rate of interest and time period is given.\n",
    "\n",
    "a = int(input(\"Enter value of principle\"))\n",
    "b = int(input(\"Enter rate of interest\"))\n",
    "c = int(input(\"Enter time period\"))\n",
    "print(\"Given value is:\",(a,b,c))\n",
    "\n",
    "si = (a*b*c)/100\n",
    "\n",
    "print(\"Simple Interest is -\",si)"
   ]
  },
  {
   "cell_type": "code",
   "execution_count": null,
   "id": "6477af2c",
   "metadata": {},
   "outputs": [
    {
     "name": "stdout",
     "output_type": "stream",
     "text": [
      "Given value is: (7, 10)\n",
      "Volume of cylinder is: 1539.380 cm³\n",
      "Cost of milk is: Rs61.575\n"
     ]
    }
   ],
   "source": [
    "#12. - Write a program to find the volume of the cylinder. Also find the cost when ,when the cost of 1litre milk is 40Rs.\n",
    "\n",
    "import math\n",
    "\n",
    "a = int(input(\"Enter radius(in cm)\"))\n",
    "b = int(input(\"Enter height(in cm)\"))\n",
    "print(\"Given value is:\",(a,b))\n",
    "\n",
    "volume = math.pi * (a**2) * b\n",
    "\n",
    "print(f\"Volume of cylinder is: {volume:.2f} cm³\")\n",
    "\n",
    "# Convert cm³ to litres\n",
    "cost = (volume/1000) * 40\n",
    "\n",
    "print(f\"Cost of milk is: Rs{cost:.2f}\")\n"
   ]
  },
  {
   "cell_type": "code",
   "execution_count": 54,
   "id": "a6a4ea3e",
   "metadata": {},
   "outputs": [
    {
     "name": "stdout",
     "output_type": "stream",
     "text": [
      "Given value is: 27\n",
      "No, it is not divisible by 3 & 6\n"
     ]
    }
   ],
   "source": [
    "#13. - Write  a program that will tell whether the given number is divisible by 3 & 6.\n",
    "\n",
    "a = int(input(\"Enter number\"))\n",
    "print(\"Given value is:\",a)\n",
    "\n",
    "if a % 3 == 0 and a % 6 == 0:\n",
    "    print(\"Yes, it is divisible by 3 & 6\")\n",
    "else:\n",
    "    print(\"No, it is not divisible by 3 & 6\")\n"
   ]
  },
  {
   "cell_type": "code",
   "execution_count": 7,
   "id": "2f062655",
   "metadata": {},
   "outputs": [
    {
     "name": "stdout",
     "output_type": "stream",
     "text": [
      "Given time is: 6:15\n",
      "Angle between hour and minute hand is: 97.5\n"
     ]
    }
   ],
   "source": [
    "# Given a string s representing time in 24-hour format \"HH:MM\", \n",
    "# compute the smallest angle in degrees between the hour and minute hands of an analog clock.\n",
    "\n",
    "\n",
    "def angleClock(s):\n",
    "    hh, mm = map(int, s.split(':'))\n",
    "\n",
    "    # Convert 24-hour format to 12-hour for analog clock\n",
    "    hh %= 12\n",
    "\n",
    "    minute_angle = mm * 6\n",
    "    hour_angle = 30 * hh + 0.5 * mm\n",
    "\n",
    "    angle = abs(hour_angle - minute_angle)\n",
    "\n",
    "    return min(angle, 360 - angle)\n",
    "\n",
    "Time = input(\"Enter time\")\n",
    "print(\"Given time is:\",Time)\n",
    "\n",
    "print(\"Angle between hour and minute hand is:\",angleClock(Time))"
   ]
  },
  {
   "cell_type": "code",
   "execution_count": 10,
   "id": "da33d5d1",
   "metadata": {},
   "outputs": [
    {
     "name": "stdout",
     "output_type": "stream",
     "text": [
      "Goven value of first triangle is:  (0, 10) (10, 0)\n",
      "Goven value of second triangle is:  (20, 10) (30, 0)\n",
      "Triangle is not overlapped!!\n"
     ]
    }
   ],
   "source": [
    "#Given two rectangles, find if the given two rectangles overlap or not. A rectangle is denoted by providing the x and y coordinates of two points:\n",
    "#  the left top corner and the right bottom corner of the rectangle. Two rectangles sharing a side are considered overlapping. \n",
    "# (L1 and R1 are the extreme points of the first rectangle and L2 and R2 are the extreme points of the second rectangle).\n",
    "\n",
    "def isOverlap(l1,r1,l2,r2):\n",
    "    \n",
    "    if r1[0] < l2[0] or r2[0] < l1[0]:\n",
    "        return False\n",
    "    \n",
    "    if l1[1] < r2[1] or l2[1] < r1[1]:\n",
    "        return False\n",
    "    \n",
    "    return True\n",
    "\n",
    "l1 = (0,10)\n",
    "r1 = (10,0)\n",
    "l2 = (20,10)\n",
    "r2 = (30,0)\n",
    "\n",
    "print(\"Goven value of first triangle is: \",l1,r1)\n",
    "print(\"Goven value of second triangle is: \",l2,r2)\n",
    "\n",
    "if isOverlap(l1,r1,l2,r2):\n",
    "    print(\"Triangle Overlapped!!\")\n",
    "else:\n",
    "    print(\"Triangle is not overlapped!!\")"
   ]
  },
  {
   "cell_type": "code",
   "execution_count": 16,
   "id": "d47973a1",
   "metadata": {},
   "outputs": [
    {
     "name": "stdout",
     "output_type": "stream",
     "text": [
      "Goven value is: Temperature = 20, Humidity = 50\n",
      "Weather report is: Cool\n"
     ]
    }
   ],
   "source": [
    "# Write a program that will determine weather when the value of temperature and humidity is provided by the user.\n",
    "\n",
    "def weather_report(temp, humidity):\n",
    "    if temp >= 30:\n",
    "        if humidity >=90:  \n",
    "            return \"Hot and Humid\"\n",
    "        elif humidity < 90:\n",
    "            return \"Hot\"\n",
    "    elif temp < 30:\n",
    "        if humidity >=90:  \n",
    "            return \"Cool and Humid\"\n",
    "        elif humidity < 90:\n",
    "            return \"Cool\"\n",
    "\n",
    "\n",
    "temp = int(input(\"Enter temperature\"))\n",
    "humidity = int(input(\"Enter humidity\"))\n",
    "print(f\"Goven value is: Temperature = {temp}, Humidity = {humidity}\")\n",
    "\n",
    "\n",
    "report = weather_report(temp, humidity)\n",
    "print(\"Weather report is:\",report)"
   ]
  },
  {
   "cell_type": "code",
   "execution_count": 19,
   "id": "f500afe9",
   "metadata": {},
   "outputs": [
    {
     "name": "stdout",
     "output_type": "stream",
     "text": [
      "Given number is: 369\n",
      "Sum of squares of each digit is: 126\n"
     ]
    }
   ],
   "source": [
    "# Write a program that will take three digits from the user and add the square of each digit.\n",
    "\n",
    "\n",
    "num = int(input(\"Enter a 3-digit number: \"))\n",
    "print(\"Given number is:\",num)\n",
    "\n",
    "d1 = num // 100\n",
    "d2 = (num // 10) % 10\n",
    "d3 = num % 10\n",
    "\n",
    "sum_of_squares = d1**2 + d2**2 + d3**2\n",
    "\n",
    "print(\"Sum of squares of each digit is:\",sum_of_squares)"
   ]
  },
  {
   "cell_type": "code",
   "execution_count": 21,
   "id": "e1f7cb13",
   "metadata": {},
   "outputs": [
    {
     "name": "stdout",
     "output_type": "stream",
     "text": [
      "Given number is: 153\n",
      "153 is a Armstrong Number\n"
     ]
    }
   ],
   "source": [
    "# Write a program that will check whether the number is armstrong number or not. \n",
    "\n",
    "num = int(input(\"Enter a number: \"))\n",
    "print(\"Given number is:\",num)\n",
    "\n",
    "digits = len(str(num))\n",
    "temp = num\n",
    "sum_of_powers = 0\n",
    "\n",
    "while temp > 0:\n",
    "    digit = temp % 10\n",
    "    sum_of_powers += digit ** digits\n",
    "    temp //= 10\n",
    "\n",
    "if num == sum_of_powers:\n",
    "    print(f\"{num} is a Armstrong Number\")\n",
    "else:\n",
    "    print(f\"{num} is not a Armstrong Number\")"
   ]
  },
  {
   "cell_type": "code",
   "execution_count": null,
   "id": "d00b8ae4",
   "metadata": {},
   "outputs": [
    {
     "name": "stdout",
     "output_type": "stream",
     "text": [
      "Given number is: 1634\n",
      "1634 is a Narcissist Number\n"
     ]
    }
   ],
   "source": [
    "# Write a program that will take user input of (4 digits number) and check whether the number is narcissist(Armstrong) number or not.\n",
    "\n",
    "num = int(input(\"Enter a 4-digit number: \"))\n",
    "print(\"Given number is:\",num)\n",
    "\n",
    "digits = len(str(num))\n",
    "temp = num\n",
    "sum_of_powers = 0\n",
    "\n",
    "while temp > 0:\n",
    "    digit = temp % 10\n",
    "    sum_of_powers += digit ** digits\n",
    "    temp //= 10\n",
    "\n",
    "if num == sum_of_powers:\n",
    "    print(f\"{num} is a Narcissist Number\")\n",
    "else:\n",
    "    print(f\"{num} is not a Narcissist Number\")"
   ]
  },
  {
   "cell_type": "code",
   "execution_count": 26,
   "id": "feb3f1ed",
   "metadata": {},
   "outputs": [
    {
     "name": "stdout",
     "output_type": "stream",
     "text": [
      "Gross Salary: Rs. 300000.00\n",
      "After HRA, DA, PF deductions: Rs. 246000.00\n",
      "Tax Deduction: Rs. 24600.00\n",
      "In-hand Salary: Rs. 221400.00\n"
     ]
    }
   ],
   "source": [
    "# Write a program that will give you the in hand salary after deduction of HRA(10%),DA(5%),PF(3%), \n",
    "# and tax(if salary is between 5-10 lakh–10%),(11-20lakh–20%),(20< _   – 30%)(0-1lakh print k).\n",
    "\n",
    "\n",
    "salary = int(input(\"Enter salary\"))\n",
    "\n",
    "if salary <= 100000:\n",
    "    print(\"Your current salary is:\",salary)\n",
    "else:\n",
    "    HRA = 0.10 * salary\n",
    "    DA = 0.05 * salary\n",
    "    PF = 0.03 * salary\n",
    "\n",
    "after_deduction = salary - (HRA + DA + PF)\n",
    "\n",
    "if 500000 <= salary <= 1000000:\n",
    "    tax = 0.1 * after_deduction\n",
    "elif 1100000 <= salary <= 2000000:\n",
    "    tax = 0.20 * after_deduction\n",
    "elif salary > 2000000:\n",
    "    tax = 0.30 * after_deduction\n",
    "else:\n",
    "    tax = 0\n",
    "\n",
    "final_salary = after_deduction - tax\n",
    "\n",
    "print(f\"Gross Salary: Rs. {salary:.2f}\")\n",
    "print(f\"After HRA, DA, PF deductions: Rs. {after_deduction:.2f}\")\n",
    "print(f\"Tax Deduction: Rs. {tax:.2f}\")\n",
    "print(f\"In-hand Salary: Rs. {final_salary:.2f}\")\n",
    "\n"
   ]
  },
  {
   "cell_type": "code",
   "execution_count": null,
   "id": "31220f84",
   "metadata": {},
   "outputs": [
    {
     "name": "stdout",
     "output_type": "stream",
     "text": [
      "\n",
      " Change App\n",
      "1. cm to ft\n",
      "2. kl to miles\n",
      "3. usd to inr\n",
      "4. exit \n",
      "Echanged value is (cm to ft):  0.98 ft\n",
      "\n",
      " Change App\n",
      "1. cm to ft\n",
      "2. kl to miles\n",
      "3. usd to inr\n",
      "4. exit \n",
      "Echanged value is (cm to ft):  0.98 ft\n",
      "\n",
      " Change App\n",
      "1. cm to ft\n",
      "2. kl to miles\n",
      "3. usd to inr\n",
      "4. exit \n"
     ]
    }
   ],
   "source": [
    "# Write a menu driven program - 1.cm to ft  2.kl to miles  3.usd to inr  4.exit \n",
    "\n",
    "\n",
    "def exhange_cm_to_ft():\n",
    "    cm = int(input(\"Enter cm value: \"))\n",
    "    print(f\"Echanged value is (cm to ft):  {(cm / 30.48):.2f} ft\")\n",
    "\n",
    "def exchange_kl_to_miles():\n",
    "    kl = int(input(\"Enter kl value: \"))\n",
    "    print(f\"Echanged value is (kl to miles):  {(kl * 0.621371):.2f} miles\")\n",
    "\n",
    "def exchange_usd_to_inr():\n",
    "    usd = int(input(\"Enter usd value: \"))\n",
    "    print(f\"Echanged value is (usd to inr):  {(usd * 88.143):.2f} inr\")\n",
    "\n",
    "\n",
    "def main():\n",
    "    while True:\n",
    "        print(\"\\n Change App\")\n",
    "        print(\"1. cm to ft\")\n",
    "        print(\"2. kl to miles\")\n",
    "        print(\"3. usd to inr\")\n",
    "        print(\"4. exit \")\n",
    "\n",
    "        choice = input(\"Enter your choice: \")\n",
    "\n",
    "        match choice:\n",
    "            case '1':\n",
    "                exhange_cm_to_ft()\n",
    "            case '2':\n",
    "                exchange_kl_to_miles()\n",
    "            case '3':\n",
    "                exchange_usd_to_inr()\n",
    "            case '4':\n",
    "                break\n",
    "            case _:\n",
    "                print(\"Invalid choice!!\")\n",
    "\n",
    "if __name__ == \"__main__\":\n",
    "    main()"
   ]
  },
  {
   "cell_type": "code",
   "execution_count": 35,
   "id": "489c6afe",
   "metadata": {},
   "outputs": [
    {
     "name": "stdout",
     "output_type": "stream",
     "text": [
      "Given heads and legs is: (7, 19)\n",
      "No valid solution found.\n"
     ]
    }
   ],
   "source": [
    "# Write a program that will tell the number of dogs and chicken are there when the user will provide the value of total heads and legs.\n",
    "\n",
    "def find_animals(heads, legs):\n",
    "    for dogs in range(heads + 1):\n",
    "        chickens = heads - dogs\n",
    "        if (4 * dogs + 2 * chickens) == legs:\n",
    "            return dogs, chickens\n",
    "    return None\n",
    "\n",
    "heads = int(input(\"Enter total heads: \"))\n",
    "legs = int(input(\"Enter total legs: \"))\n",
    "print(\"Given heads and legs is:\",(heads,legs))\n",
    "\n",
    "result = find_animals(heads, legs)\n",
    "if result:\n",
    "    dogs, chickens = result\n",
    "    print(f\"Number of Dogs: {dogs}, Number of Chickens: {chickens}\")\n",
    "else:\n",
    "    print(\"No valid solution found.\")"
   ]
  },
  {
   "cell_type": "code",
   "execution_count": 36,
   "id": "c6d5720c",
   "metadata": {},
   "outputs": [
    {
     "name": "stdout",
     "output_type": "stream",
     "text": [
      "Given number is: 25 36\n",
      "Swaped number is: (36, 25)\n"
     ]
    }
   ],
   "source": [
    "# Write a program that will swap numbers\n",
    "\n",
    "def swap_number(a,b):\n",
    "    temp = a\n",
    "    a = b\n",
    "    b = temp\n",
    "    return a, b\n",
    "\n",
    "\n",
    "a = int(input(\"Enter first number\"))\n",
    "b = int(input(\"Enter second number\"))\n",
    "print(\"Given number is:\",a,b)\n",
    "\n",
    "print(\"Swaped number is:\",swap_number(a,b))"
   ]
  },
  {
   "cell_type": "code",
   "execution_count": 39,
   "id": "aa61baf6",
   "metadata": {},
   "outputs": [
    {
     "name": "stdout",
     "output_type": "stream",
     "text": [
      "Given number is: 30\n",
      "Sum upto 30: 465\n"
     ]
    }
   ],
   "source": [
    "# Write a program to find the sum of first n numbers, where n will be provided by the user. \n",
    "# Eg if the user provides n=10 the output should be 55.\n",
    "\n",
    "\n",
    "def sum_upto_n(num):\n",
    "    sum = 0\n",
    "    for i in range(num+1):\n",
    "        sum += i\n",
    "    return sum\n",
    "\n",
    "number = int(input(\"Enter number\"))\n",
    "print(\"Given number is:\",number)\n",
    "\n",
    "print(f\"Sum upto {number}: {sum_upto_n(number)}\")"
   ]
  },
  {
   "cell_type": "code",
   "execution_count": 2,
   "id": "a1cf2590",
   "metadata": {},
   "outputs": [
    {
     "name": "stdout",
     "output_type": "stream",
     "text": [
      "Given number is: -3 2\n",
      "Product of -3 and 2 = -6\n"
     ]
    }
   ],
   "source": [
    "# Write a program that can multiply 2 numbers provided by the user without using the * operator\n",
    "\n",
    "def multiply(a,b):\n",
    "    result = 0\n",
    "    negative = False\n",
    "\n",
    "    if a < 0 and b >= 0:\n",
    "        a, negative = -a, True\n",
    "    elif b < 0 and a >= 0:\n",
    "        b, negative = -b, True\n",
    "    elif a < 0 and b < 0:\n",
    "        a, b = -a,-b \n",
    "    \n",
    "\n",
    "    for _ in range(b):\n",
    "        result += a\n",
    "        # print(result)\n",
    "\n",
    "    return -result if negative else result\n",
    "\n",
    "num1 = int(input(\"Enter first number\"))\n",
    "num2 = int(input(\"Enter second number\"))\n",
    "print(\"Given number is:\",num1,num2)\n",
    "\n",
    "print(f\"Product of {num1} and {num2} = {multiply(num1, num2)}\")"
   ]
  },
  {
   "cell_type": "code",
   "execution_count": 49,
   "id": "1c36ae1e",
   "metadata": {},
   "outputs": [
    {
     "name": "stdout",
     "output_type": "stream",
     "text": [
      "Given number is: 5\n",
      "Factorial of 5 is: 120\n"
     ]
    }
   ],
   "source": [
    "# Write a program that can find the factorial of a given number provided by the user.\n",
    "\n",
    "def factorial(num):\n",
    "    if num == 0: return 1\n",
    "    return num * factorial(num-1)\n",
    "\n",
    "number = int(input(\"Enter an number\"))\n",
    "print(\"Given number is:\",number)\n",
    "\n",
    "print(f\"Factorial of {number} is: {factorial(number)}\")"
   ]
  },
  {
   "cell_type": "code",
   "execution_count": 53,
   "id": "803de39b",
   "metadata": {},
   "outputs": [
    {
     "name": "stdout",
     "output_type": "stream",
     "text": [
      "1 3 5 7 9 11 13 15 17 19 21 23 25 27 29 31 33 35 37 39 41 43 45 47 49 "
     ]
    }
   ],
   "source": [
    "# Write a program to print the first 25 odd numbers\n",
    "\n",
    "count = 0\n",
    "num = 1\n",
    "while count < 25:\n",
    "\n",
    "    print(num, end=' ')\n",
    "    num += 2\n",
    "    count += 1\n",
    "    "
   ]
  },
  {
   "cell_type": "code",
   "execution_count": 58,
   "id": "d57c3ec2",
   "metadata": {},
   "outputs": [
    {
     "name": "stdout",
     "output_type": "stream",
     "text": [
      "Given number is: 136\n",
      "136 is not Prime Number.\n"
     ]
    }
   ],
   "source": [
    "# Write a program to print whether a given number is prime number or not\n",
    "\n",
    "number = int(input(\"Enter an number\"))\n",
    "print(\"Given number is:\",number)\n",
    "\n",
    "flag = False\n",
    "\n",
    "for i in range(2, number):\n",
    "    if number % i == 0:\n",
    "        flag = True\n",
    "        break\n",
    "\n",
    "if flag == True:\n",
    "    print(f\"{number} is not Prime Number.\")\n",
    "else:\n",
    "    print(f\"{number} is Prime Number.\")\n"
   ]
  },
  {
   "cell_type": "code",
   "execution_count": 1,
   "id": "855fc73d",
   "metadata": {},
   "outputs": [
    {
     "name": "stdout",
     "output_type": "stream",
     "text": [
      "153 is armstrong number\n",
      "370 is armstrong number\n",
      "371 is armstrong number\n",
      "407 is armstrong number\n"
     ]
    }
   ],
   "source": [
    "# Print all the armstrong numbers in the range of 100 to 1000\n",
    "\n",
    "for num in range(100,1001):\n",
    "    sum_of_cubes = 0\n",
    "    temp = num\n",
    "    while temp > 0:\n",
    "        digit = temp % 10\n",
    "        sum_of_cubes += digit ** 3\n",
    "        temp //= 10\n",
    "\n",
    "    if num == sum_of_cubes:\n",
    "        print(f\"{num} is armstrong number\")\n"
   ]
  },
  {
   "cell_type": "code",
   "execution_count": 3,
   "id": "08373074",
   "metadata": {},
   "outputs": [
    {
     "name": "stdout",
     "output_type": "stream",
     "text": [
      "10 year - 10000\n",
      "9 year - 9091\n",
      "8 year - 8264\n",
      "7 year - 7513\n",
      "6 year - 6830\n",
      "5 year - 6209\n",
      "4 year - 5645\n",
      "3 year - 5132\n",
      "2 year - 4665\n",
      "1 year - 4241\n"
     ]
    }
   ],
   "source": [
    "# The current population of a town is 10000. The population of the town is increasing at the rate of 10% per year. \n",
    "# You have to write a program to find out the population at the end of each of the last 10 years. \n",
    "# For eg current population is 10000 so the output should be like this:\n",
    "# 10th year - 10000\n",
    "# 9th year - 9000\n",
    "# 8th year - 8100 and so on\n",
    "\n",
    "current_population = 10000\n",
    "rate = 0.1\n",
    "\n",
    "for year in range(10,0,-1):\n",
    "    print(f\"{year} year - {round(current_population)}\")\n",
    "\n",
    "    current_population = current_population / (1+rate)"
   ]
  },
  {
   "cell_type": "code",
   "execution_count": 10,
   "id": "2e6309e7",
   "metadata": {},
   "outputs": [
    {
     "name": "stdout",
     "output_type": "stream",
     "text": [
      "Unique combinations of 1,2,3,4 are:\n",
      "(1, 2, 3, 4)\n",
      "(1, 2, 4, 3)\n",
      "(1, 3, 2, 4)\n",
      "(1, 3, 4, 2)\n",
      "(1, 4, 2, 3)\n",
      "(1, 4, 3, 2)\n",
      "(2, 1, 3, 4)\n",
      "(2, 1, 4, 3)\n",
      "(2, 3, 1, 4)\n",
      "(2, 3, 4, 1)\n",
      "(2, 4, 1, 3)\n",
      "(2, 4, 3, 1)\n",
      "(3, 1, 2, 4)\n",
      "(3, 1, 4, 2)\n",
      "(3, 2, 1, 4)\n",
      "(3, 2, 4, 1)\n",
      "(3, 4, 1, 2)\n",
      "(3, 4, 2, 1)\n",
      "(4, 1, 2, 3)\n",
      "(4, 1, 3, 2)\n",
      "(4, 2, 1, 3)\n",
      "(4, 2, 3, 1)\n",
      "(4, 3, 1, 2)\n",
      "(4, 3, 2, 1)\n"
     ]
    }
   ],
   "source": [
    "# Write a program to print all the unique combinations of 1,2,3 and 4\n",
    "\n",
    "import itertools\n",
    "\n",
    "\n",
    "num = [1,2,3,4]\n",
    "\n",
    "permu = itertools.permutations(num, 4)\n",
    "\n",
    "print(\"Unique combinations of 1,2,3,4 are:\")\n",
    "for i in permu:\n",
    "    print(i)"
   ]
  },
  {
   "cell_type": "code",
   "execution_count": 21,
   "id": "52808312",
   "metadata": {},
   "outputs": [
    {
     "name": "stdout",
     "output_type": "stream",
     "text": [
      "HCF is: 2\n"
     ]
    }
   ],
   "source": [
    "# User will provide 2 numbers you have to find the HCF of those 2 numbers\n",
    "# import math\n",
    "\n",
    "def gcd(a,b):\n",
    "    while b!=0:\n",
    "        a,b = b, a%b\n",
    "    return a\n",
    "\n",
    "a = int(input(\"Enter first number\"))\n",
    "b = int(input(\"Enter second number\"))\n",
    "\n",
    "# print(\"HCF is:\",math.gcd(a,b))\n",
    "print(\"HCF is:\",gcd(a,b))\n",
    "\n"
   ]
  },
  {
   "cell_type": "code",
   "execution_count": 31,
   "id": "6cfc8f18",
   "metadata": {},
   "outputs": [
    {
     "name": "stdout",
     "output_type": "stream",
     "text": [
      "LCM is: 30\n"
     ]
    }
   ],
   "source": [
    "# User will provide 2 numbers you have to find the by LCM of those 2 numbers\n",
    "\n",
    "# import math\n",
    "\n",
    "def hcf(a,b):\n",
    "    while b!=0:\n",
    "        a, b = b, a%b\n",
    "    return a\n",
    "\n",
    "def lcm(a,b):\n",
    "    return (a*b)//hcf(a,b)\n",
    "\n",
    "a = int(input(\"Enter first number\"))\n",
    "b = int(input(\"Enter second number\"))\n",
    "\n",
    "# print(\"LCM is:\",math.lcm(a,b))\n",
    "print(\"LCM is:\",lcm(a,b))"
   ]
  },
  {
   "cell_type": "code",
   "execution_count": 33,
   "id": "cd098913",
   "metadata": {},
   "outputs": [
    {
     "name": "stdout",
     "output_type": "stream",
     "text": [
      "2 3 4 5 6 7 8 9 11 13 15 17 19 23 25 29 31 35 37 41 43 47 49 53 59 "
     ]
    }
   ],
   "source": [
    "# Print first 25 prime numbers\n",
    "\n",
    "\n",
    "def is_prime(num):\n",
    "    for i in range(2,int(num**0.5),1):\n",
    "        if num % i == 0:\n",
    "            return False\n",
    "    return True\n",
    "\n",
    "\n",
    "count = 0\n",
    "num = 2\n",
    "while count < 25:\n",
    "    if is_prime(num):\n",
    "        print(num,end=' ')\n",
    "        count += 1\n",
    "    num += 1"
   ]
  },
  {
   "cell_type": "code",
   "execution_count": 36,
   "id": "a2da78aa",
   "metadata": {},
   "outputs": [
    {
     "name": "stdout",
     "output_type": "stream",
     "text": [
      "1\n",
      "2\n",
      "3\n",
      "5\n",
      "8\n",
      "13\n",
      "21\n",
      "34\n",
      "55\n",
      "89\n",
      "144\n",
      "233\n",
      "377\n",
      "610\n",
      "987\n",
      "1597\n",
      "2584\n",
      "4181\n",
      "6765\n",
      "10946\n"
     ]
    }
   ],
   "source": [
    "# Print the first 20 numbers of a Fibonacci series\n",
    "\n",
    "def fibonacci(n):\n",
    "    if n == 1 or n == 0: return 1\n",
    "    return fibonacci(n-1) + fibonacci(n-2)\n",
    "\n",
    "count = 0\n",
    "num = 1\n",
    "\n",
    "while count < 20:\n",
    "    print(fibonacci(num))\n",
    "    count += 1\n",
    "    num += 1"
   ]
  }
 ],
 "metadata": {
  "kernelspec": {
   "display_name": "Python 3",
   "language": "python",
   "name": "python3"
  },
  "language_info": {
   "codemirror_mode": {
    "name": "ipython",
    "version": 3
   },
   "file_extension": ".py",
   "mimetype": "text/x-python",
   "name": "python",
   "nbconvert_exporter": "python",
   "pygments_lexer": "ipython3",
   "version": "3.10.11"
  }
 },
 "nbformat": 4,
 "nbformat_minor": 5
}
