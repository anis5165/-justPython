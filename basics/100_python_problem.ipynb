{
 "cells": [
  {
   "cell_type": "code",
   "execution_count": 8,
   "id": "71d0ccdc",
   "metadata": {},
   "outputs": [
    {
     "name": "stdout",
     "output_type": "stream",
     "text": [
      "Older is:  40\n"
     ]
    }
   ],
   "source": [
    "#01. - user will input (3ages).Find the oldest one\n",
    "\n",
    "age = int(input(\"Enter age\"))\n",
    "age1 = int(input(\"Enter age\"))\n",
    "age2 = int(input(\"Enter age\"))\n",
    "\n",
    "if age > age1:\n",
    "    if age > age2:\n",
    "        print(\"Older is : \", age)\n",
    "    else:\n",
    "        print(\"Older is: \", age2)\n",
    "elif age1 > age2:\n",
    "        print(\"Older is: \", age1)\n",
    "else:\n",
    "       print(\"Older is: \", age2)\n",
    "     \n",
    "    \n"
   ]
  },
  {
   "cell_type": "code",
   "execution_count": null,
   "id": "4b97dbab",
   "metadata": {},
   "outputs": [
    {
     "name": "stdout",
     "output_type": "stream",
     "text": [
      "Converted temperture is:  95.0\n"
     ]
    }
   ],
   "source": [
    "#2. Write a program that will convert celsius value to fahrenheit\n",
    "\n",
    "def infahrenheit(temp):\n",
    "    return ((9/5)*temp) + 32\n",
    "\n",
    "temperature = int(input(\"Enter the temperature in celsius\"))\n",
    "\n",
    "converted_temp = infahrenheit(temperature)\n",
    "\n",
    "print(\"Converted temperture is: \", converted_temp)\n"
   ]
  },
  {
   "cell_type": "code",
   "execution_count": null,
   "id": "c76a5c14",
   "metadata": {},
   "outputs": [
    {
     "name": "stdout",
     "output_type": "stream",
     "text": [
      "Given number is (20, 60)\n",
      "Swaped number is (60, 20)\n"
     ]
    }
   ],
   "source": [
    "#3. - User will input (2numbers). Write a program to swap the numbers\n",
    "\n",
    "def swap(a,b):\n",
    "    temp = a\n",
    "    a = b\n",
    "    b = temp\n",
    "    return a,b\n",
    "\n",
    "a = int(input(\"Enter first number\"))\n",
    "b = int(input(\"Enter second number\"))\n",
    "print(\"Given number is\",(a,b))\n",
    "\n",
    "(c,d) = swap(a,b)\n",
    "\n",
    "print(\"Swaped number is\",(c,d))\n"
   ]
  },
  {
   "cell_type": "code",
   "execution_count": null,
   "id": "af7a5757",
   "metadata": {},
   "outputs": [
    {
     "name": "stdout",
     "output_type": "stream",
     "text": [
      "Given number is (20, 30, 50)\n",
      "Sum is :  100\n"
     ]
    }
   ],
   "source": [
    "# 4. - Write a program that will give you the sum of 3 digits\n",
    "\n",
    "def add(a,b,c):\n",
    "    return a+b+c\n",
    "\n",
    "a = int(input(\"Enter first number\"))\n",
    "b = int(input(\"Enter second number\"))\n",
    "c = int(input(\"Enter third number\"))\n",
    "print(\"Given number is\",(a,b,c))\n",
    "\n",
    "print(\"Sum is : \", add(a,b,c))\n"
   ]
  },
  {
   "cell_type": "code",
   "execution_count": null,
   "id": "9a2c956b",
   "metadata": {},
   "outputs": [
    {
     "name": "stdout",
     "output_type": "stream",
     "text": [
      "Given number is: 12345\n",
      "Please enter a four digit number\n",
      "Reversed number is:  None\n"
     ]
    }
   ],
   "source": [
    "#5. - Write a program that will reverse a four digit number.Also it checks whether the reverse is true.\n",
    "\n",
    "def reverse(a):\n",
    "    if len(a)==4:\n",
    "        rev = a[::-1]  #slicing backward travel in string\n",
    "        return rev\n",
    "    else:\n",
    "        print(\"Please enter a four digit number\")\n",
    "        return None\n",
    "\n",
    "a = input(\"Enter number\")\n",
    "print(\"Given number is:\",a)\n",
    "\n",
    "print(\"Reversed number is: \",reverse(a))"
   ]
  },
  {
   "cell_type": "code",
   "execution_count": null,
   "id": "8b11c688",
   "metadata": {},
   "outputs": [
    {
     "name": "stdout",
     "output_type": "stream",
     "text": [
      "Given number is: 25\n",
      "Given number is Odd.\n"
     ]
    }
   ],
   "source": [
    "#6. -  Write a program that will tell whether the number entered by the user is odd or even.\n",
    "\n",
    "a = int(input(\"Enter number\"))\n",
    "print(\"Given number is:\",a)\n",
    "\n",
    "if (a % 2) == 0:\n",
    "    print(\"Given number is Even.\")\n",
    "else:\n",
    "    print(\"Given number is Odd.\")"
   ]
  },
  {
   "cell_type": "code",
   "execution_count": null,
   "id": "9907d749",
   "metadata": {},
   "outputs": [
    {
     "name": "stdout",
     "output_type": "stream",
     "text": [
      "Given year is: 2028\n",
      "Given year is leap year\n"
     ]
    }
   ],
   "source": [
    "#7. - Write a program that will tell whether the given year is a leap year or not.\n",
    "\n",
    "a = int(input(\"Enter Year\"))\n",
    "print(\"Given year is:\",a)\n",
    "\n",
    "if a % 4 == 0:\n",
    "    print(\"Given year is leap year\")\n",
    "else:\n",
    "    print(\"Given year is not leap year\")"
   ]
  },
  {
   "cell_type": "code",
   "execution_count": null,
   "id": "6b1385e7",
   "metadata": {},
   "outputs": [],
   "source": [
    "#8. - Write a program to find the euclidean distance between two coordinates.\n",
    "\n",
    " "
   ]
  }
 ],
 "metadata": {
  "kernelspec": {
   "display_name": "Python 3",
   "language": "python",
   "name": "python3"
  },
  "language_info": {
   "codemirror_mode": {
    "name": "ipython",
    "version": 3
   },
   "file_extension": ".py",
   "mimetype": "text/x-python",
   "name": "python",
   "nbconvert_exporter": "python",
   "pygments_lexer": "ipython3",
   "version": "3.10.11"
  }
 },
 "nbformat": 4,
 "nbformat_minor": 5
}
