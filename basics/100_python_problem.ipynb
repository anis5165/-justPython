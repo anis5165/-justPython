{
 "cells": [
  {
   "cell_type": "code",
   "execution_count": 8,
   "id": "71d0ccdc",
   "metadata": {},
   "outputs": [
    {
     "name": "stdout",
     "output_type": "stream",
     "text": [
      "Older is:  40\n"
     ]
    }
   ],
   "source": [
    "#01. - user will input (3ages).Find the oldest one\n",
    "\n",
    "age = int(input(\"Enter age\"))\n",
    "age1 = int(input(\"Enter age\"))\n",
    "age2 = int(input(\"Enter age\"))\n",
    "\n",
    "if age > age1:\n",
    "    if age > age2:\n",
    "        print(\"Older is : \", age)\n",
    "    else:\n",
    "        print(\"Older is: \", age2)\n",
    "elif age1 > age2:\n",
    "        print(\"Older is: \", age1)\n",
    "else:\n",
    "       print(\"Older is: \", age2)\n",
    "     \n",
    "    \n"
   ]
  },
  {
   "cell_type": "code",
   "execution_count": null,
   "id": "4b97dbab",
   "metadata": {},
   "outputs": [
    {
     "name": "stdout",
     "output_type": "stream",
     "text": [
      "Converted temperture is:  95.0\n"
     ]
    }
   ],
   "source": [
    "#2. Write a program that will convert celsius value to fahrenheit\n",
    "\n",
    "def infahrenheit(temp):\n",
    "    return ((9/5)*temp) + 32\n",
    "\n",
    "temperature = int(input(\"Enter the temperature in celsius\"))\n",
    "\n",
    "converted_temp = infahrenheit(temperature)\n",
    "\n",
    "print(\"Converted temperture is: \", converted_temp)\n"
   ]
  },
  {
   "cell_type": "code",
   "execution_count": null,
   "id": "c76a5c14",
   "metadata": {},
   "outputs": [
    {
     "name": "stdout",
     "output_type": "stream",
     "text": [
      "Given number is (20, 60)\n",
      "Swaped number is (60, 20)\n"
     ]
    }
   ],
   "source": [
    "#3. - User will input (2numbers). Write a program to swap the numbers\n",
    "\n",
    "def swap(a,b):\n",
    "    temp = a\n",
    "    a = b\n",
    "    b = temp\n",
    "    return a,b\n",
    "\n",
    "a = int(input(\"Enter first number\"))\n",
    "b = int(input(\"Enter second number\"))\n",
    "print(\"Given number is\",(a,b))\n",
    "\n",
    "(c,d) = swap(a,b)\n",
    "\n",
    "print(\"Swaped number is\",(c,d))\n"
   ]
  },
  {
   "cell_type": "code",
   "execution_count": null,
   "id": "af7a5757",
   "metadata": {},
   "outputs": [
    {
     "name": "stdout",
     "output_type": "stream",
     "text": [
      "Given number is (20, 30, 50)\n",
      "Sum is :  100\n"
     ]
    }
   ],
   "source": [
    "# 4. - Write a program that will give you the sum of 3 digits\n",
    "\n",
    "def add(a,b,c):\n",
    "    return a+b+c\n",
    "\n",
    "a = int(input(\"Enter first number\"))\n",
    "b = int(input(\"Enter second number\"))\n",
    "c = int(input(\"Enter third number\"))\n",
    "print(\"Given number is\",(a,b,c))\n",
    "\n",
    "print(\"Sum is : \", add(a,b,c))\n"
   ]
  },
  {
   "cell_type": "code",
   "execution_count": null,
   "id": "9a2c956b",
   "metadata": {},
   "outputs": [
    {
     "name": "stdout",
     "output_type": "stream",
     "text": [
      "Given number is: 12345\n",
      "Please enter a four digit number\n",
      "Reversed number is:  None\n"
     ]
    }
   ],
   "source": [
    "#5. - Write a program that will reverse a four digit number.Also it checks whether the reverse is true.\n",
    "\n",
    "def reverse(a):\n",
    "    if len(a)==4:\n",
    "        rev = a[::-1]  #slicing backward travel in string\n",
    "        return rev\n",
    "    else:\n",
    "        print(\"Please enter a four digit number\")\n",
    "        return None\n",
    "\n",
    "a = input(\"Enter number\")\n",
    "print(\"Given number is:\",a)\n",
    "\n",
    "print(\"Reversed number is: \",reverse(a))"
   ]
  },
  {
   "cell_type": "code",
   "execution_count": null,
   "id": "8b11c688",
   "metadata": {},
   "outputs": [
    {
     "name": "stdout",
     "output_type": "stream",
     "text": [
      "Given number is: 25\n",
      "Given number is Odd.\n"
     ]
    }
   ],
   "source": [
    "#6. -  Write a program that will tell whether the number entered by the user is odd or even.\n",
    "\n",
    "a = int(input(\"Enter number\"))\n",
    "print(\"Given number is:\",a)\n",
    "\n",
    "if (a % 2) == 0:\n",
    "    print(\"Given number is Even.\")\n",
    "else:\n",
    "    print(\"Given number is Odd.\")"
   ]
  },
  {
   "cell_type": "code",
   "execution_count": null,
   "id": "9907d749",
   "metadata": {},
   "outputs": [
    {
     "name": "stdout",
     "output_type": "stream",
     "text": [
      "Given year is: 2028\n",
      "Given year is leap year\n"
     ]
    }
   ],
   "source": [
    "#7. - Write a program that will tell whether the given year is a leap year or not.\n",
    "\n",
    "a = int(input(\"Enter Year\"))\n",
    "print(\"Given year is:\",a)\n",
    "\n",
    "if a % 4 == 0:\n",
    "    print(\"Given year is leap year\")\n",
    "else:\n",
    "    print(\"Given year is not leap year\")"
   ]
  },
  {
   "cell_type": "code",
   "execution_count": 37,
   "id": "6b1385e7",
   "metadata": {},
   "outputs": [
    {
     "name": "stdout",
     "output_type": "stream",
     "text": [
      "Given coordinate is: (3, 4)\n",
      "Given coordinate is: (7, 1)\n",
      "The euclidean distance between two coordinates is: 5.0\n"
     ]
    }
   ],
   "source": [
    "#8. - Write a program to find the euclidean distance between two coordinates.\n",
    "\n",
    "import math\n",
    "\n",
    "a = int(input(\"Enter x1\"))\n",
    "b = int(input(\"Enter y1\"))\n",
    "c = int(input(\"Enter x2\"))\n",
    "d = int(input(\"Enter y2\"))\n",
    "print(\"Given coordinate is:\",(a,b))\n",
    "print(\"Given coordinate is:\",(c,d))\n",
    "\n",
    "euclidean_distance = math.sqrt((c-a)**2 + (d-b)**2)\n",
    "\n",
    "print(\"The euclidean distance between two coordinates is:\",euclidean_distance)\n"
   ]
  },
  {
   "cell_type": "code",
   "execution_count": 42,
   "id": "a73fceca",
   "metadata": {},
   "outputs": [
    {
     "name": "stdout",
     "output_type": "stream",
     "text": [
      "Given angle is: (45, 45, 90)\n",
      "Yes it can form a triangle\n"
     ]
    }
   ],
   "source": [
    "#9. - Write a program that take a user input of three angles and will find out whether it can form a triangle or not.\n",
    "\n",
    "a = int(input(\"Enter first angle\"))\n",
    "b = int(input(\"Enter second angle\"))\n",
    "c = int(input(\"Enter third angle\"))\n",
    "print(\"Given angle is:\",(a,b,c))\n",
    "\n",
    "if a>0 and b>0 and c>0 and (a+b+c) == 180:\n",
    "    print(\"Yes it can form a triangle\")\n",
    "else:\n",
    "    print(\"No, it cannot form a triangle\")"
   ]
  },
  {
   "cell_type": "code",
   "execution_count": 46,
   "id": "2f031cd5",
   "metadata": {},
   "outputs": [
    {
     "name": "stdout",
     "output_type": "stream",
     "text": [
      "Given cost and sell price is: (98564, 2356)\n",
      "Loss!! - 96208\n"
     ]
    }
   ],
   "source": [
    "#10. - Write a program that will take user input of cost price and selling price and determines whether its a loss or a profit\n",
    "\n",
    "a = int(input(\"Enter cost price\"))\n",
    "b = int(input(\"Enter sell price\"))\n",
    "print(\"Given cost and sell price is:\",(a,b))\n",
    "\n",
    "\n",
    "if a>b:\n",
    "    print(\"Loss!! -\",(a-b))\n",
    "else:\n",
    "    print(\"Profit!! -\",(b-a))"
   ]
  },
  {
   "cell_type": "code",
   "execution_count": 49,
   "id": "7a59dc3c",
   "metadata": {},
   "outputs": [
    {
     "name": "stdout",
     "output_type": "stream",
     "text": [
      "Given value is: (25000, 3, 25)\n",
      "Simple Interest is - 18750.0\n"
     ]
    }
   ],
   "source": [
    "#11. - Write a program to find the simple interest when the value of principle,rate of interest and time period is given.\n",
    "\n",
    "a = int(input(\"Enter value of principle\"))\n",
    "b = int(input(\"Enter rate of interest\"))\n",
    "c = int(input(\"Enter time period\"))\n",
    "print(\"Given value is:\",(a,b,c))\n",
    "\n",
    "si = (a*b*c)/100\n",
    "\n",
    "print(\"Simple Interest is -\",si)"
   ]
  },
  {
   "cell_type": "code",
   "execution_count": null,
   "id": "6477af2c",
   "metadata": {},
   "outputs": [
    {
     "name": "stdout",
     "output_type": "stream",
     "text": [
      "Given value is: (7, 10)\n",
      "Volume of cylinder is: 1539.380 cm³\n",
      "Cost of milk is: Rs61.575\n"
     ]
    }
   ],
   "source": [
    "#12. - Write a program to find the volume of the cylinder. Also find the cost when ,when the cost of 1litre milk is 40Rs.\n",
    "\n",
    "import math\n",
    "\n",
    "a = int(input(\"Enter radius(in cm)\"))\n",
    "b = int(input(\"Enter height(in cm)\"))\n",
    "print(\"Given value is:\",(a,b))\n",
    "\n",
    "volume = math.pi * (a**2) * b\n",
    "\n",
    "print(f\"Volume of cylinder is: {volume:.2f} cm³\")\n",
    "\n",
    "# Convert cm³ to litres\n",
    "cost = (volume/1000) * 40\n",
    "\n",
    "print(f\"Cost of milk is: Rs{cost:.2f}\")\n"
   ]
  },
  {
   "cell_type": "code",
   "execution_count": 54,
   "id": "a6a4ea3e",
   "metadata": {},
   "outputs": [
    {
     "name": "stdout",
     "output_type": "stream",
     "text": [
      "Given value is: 27\n",
      "No, it is not divisible by 3 & 6\n"
     ]
    }
   ],
   "source": [
    "#13. - Write  a program that will tell whether the given number is divisible by 3 & 6.\n",
    "\n",
    "a = int(input(\"Enter number\"))\n",
    "print(\"Given value is:\",a)\n",
    "\n",
    "if a % 3 == 0 and a % 6 == 0:\n",
    "    print(\"Yes, it is divisible by 3 & 6\")\n",
    "else:\n",
    "    print(\"No, it is not divisible by 3 & 6\")\n"
   ]
  }
 ],
 "metadata": {
  "kernelspec": {
   "display_name": "Python 3",
   "language": "python",
   "name": "python3"
  },
  "language_info": {
   "codemirror_mode": {
    "name": "ipython",
    "version": 3
   },
   "file_extension": ".py",
   "mimetype": "text/x-python",
   "name": "python",
   "nbconvert_exporter": "python",
   "pygments_lexer": "ipython3",
   "version": "3.10.11"
  }
 },
 "nbformat": 4,
 "nbformat_minor": 5
}
