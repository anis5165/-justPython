{
 "cells": [
  {
   "cell_type": "code",
   "execution_count": null,
   "id": "69b6d577",
   "metadata": {},
   "outputs": [
    {
     "name": "stdout",
     "output_type": "stream",
     "text": [
      "masala chai\n",
      "m\n",
      "masala\n",
      "ala chai\n",
      "masala c\n",
      "msl \n",
      "masala chai\n",
      "MASALA CHAI\n"
     ]
    }
   ],
   "source": [
    "chai = \"lemon chai\"\n",
    "chai = \"masala chai\"\n",
    "print(chai)\n",
    "first_char = chai[0]\n",
    "print(first_char)\n",
    "\n",
    "slice_chai = chai[0:6]\n",
    "print(slice_chai)\n",
    "\n",
    "slice_chai = chai[3:]\n",
    "print(slice_chai)\n",
    "\n",
    "slice_chai = chai[:8]\n",
    "print(slice_chai)\n",
    "\n",
    "slice_chai = chai[0:7:2]\n",
    "print(slice_chai)\n",
    "\n",
    "print(chai.lower())\n",
    "print(chai.upper())\n"
   ]
  },
  {
   "cell_type": "code",
   "execution_count": 17,
   "id": "42044a0c",
   "metadata": {},
   "outputs": [
    {
     "name": "stdout",
     "output_type": "stream",
     "text": [
      "       Masala chai      \n",
      "Masala chai\n",
      "ginger chai\n",
      "lemon chai\n"
     ]
    }
   ],
   "source": [
    "chai = \"       Masala chai      \"\n",
    "print(chai)\n",
    "\n",
    "print(chai.strip())  #for remove space\n",
    "\n",
    "chai = \"lemon chai\"\n",
    "print(chai.replace(\"lemon\", \"ginger\"))\n",
    "print(chai)\n"
   ]
  },
  {
   "cell_type": "code",
   "execution_count": 19,
   "id": "c6335cc0",
   "metadata": {},
   "outputs": [
    {
     "name": "stdout",
     "output_type": "stream",
     "text": [
      "['Lemon,', 'Ginger,', 'Masala,', 'Mint']\n",
      "['Lemon', 'Ginger', 'Masala', 'Mint']\n"
     ]
    }
   ],
   "source": [
    "chai = \"Lemon, Ginger, Masala, Mint\"\n",
    "\n",
    "print(chai.split()) #convert into list\n",
    "\n",
    "print(chai.split(\", \"))"
   ]
  },
  {
   "cell_type": "code",
   "execution_count": 21,
   "id": "3276026c",
   "metadata": {},
   "outputs": [
    {
     "name": "stdout",
     "output_type": "stream",
     "text": [
      "7\n",
      "3\n"
     ]
    }
   ],
   "source": [
    "chai = \"Masala chai\"\n",
    "\n",
    "print(chai.find('chai'))\n",
    "\n",
    "\n",
    "chai = \"Masala chai chai chai\"\n",
    "print(chai.count('chai'))"
   ]
  },
  {
   "cell_type": "code",
   "execution_count": 23,
   "id": "93443c77",
   "metadata": {},
   "outputs": [
    {
     "name": "stdout",
     "output_type": "stream",
     "text": [
      "I ordered 2 cups of Masala chai\n"
     ]
    }
   ],
   "source": [
    "chai_type = \"Masala\"\n",
    "quantity = 2\n",
    "order = \"I ordered {} cups of {} chai\"\n",
    "\n",
    "print(order.format(quantity,chai_type))"
   ]
  },
  {
   "cell_type": "code",
   "execution_count": null,
   "id": "5f3e0aff",
   "metadata": {},
   "outputs": [
    {
     "name": "stdout",
     "output_type": "stream",
     "text": [
      "LemonMasalaGinger\n",
      "Lemon Masala Ginger\n",
      "Lemon-Masala-Ginger\n",
      "Lemon,Masala,Ginger\n"
     ]
    }
   ],
   "source": [
    "chai_variety = [\"Lemon\", \"Masala\",\"Ginger\"]\n",
    "\n",
    "print(\"\".join(chai_variety))\n",
    "print(\" \".join(chai_variety))\n",
    "print(\"-\".join(chai_variety))\n",
    "print(\", \".join(chai_variety))"
   ]
  },
  {
   "cell_type": "code",
   "execution_count": 28,
   "id": "04d6bd99",
   "metadata": {},
   "outputs": [
    {
     "name": "stdout",
     "output_type": "stream",
     "text": [
      "11\n",
      "M\n",
      "a\n",
      "s\n",
      "a\n",
      "l\n",
      "a\n",
      " \n",
      "c\n",
      "h\n",
      "a\n",
      "i\n"
     ]
    }
   ],
   "source": [
    "chai = \"Masala chai\"\n",
    "\n",
    "print(len(chai))\n",
    "\n",
    "for letter in chai:\n",
    "    print(letter)"
   ]
  },
  {
   "cell_type": "code",
   "execution_count": 32,
   "id": "8297253a",
   "metadata": {},
   "outputs": [
    {
     "name": "stdout",
     "output_type": "stream",
     "text": [
      "He said, \"Masala chai is awesome\" \n",
      "Masala\n",
      "Chai\n",
      "Masala\\nChai\n"
     ]
    }
   ],
   "source": [
    "chai = \"He said, \\\"Masala chai is awesome\\\" \"\n",
    "\n",
    "print(chai)\n",
    "\n",
    "chai = \"Masala\\nChai\"\n",
    "print(chai)\n",
    "\n",
    "\n",
    "chai = r\"Masala\\nChai\"\n",
    "print(chai)"
   ]
  },
  {
   "cell_type": "code",
   "execution_count": 34,
   "id": "b5f49e1f",
   "metadata": {},
   "outputs": [
    {
     "name": "stdout",
     "output_type": "stream",
     "text": [
      "True\n",
      "False\n"
     ]
    }
   ],
   "source": [
    "chai = \"Masala chai\"\n",
    "\n",
    "print(\"Masala\" in chai)\n",
    "print(\"Masalssa\" in chai)"
   ]
  }
 ],
 "metadata": {
  "kernelspec": {
   "display_name": "Python 3",
   "language": "python",
   "name": "python3"
  },
  "language_info": {
   "codemirror_mode": {
    "name": "ipython",
    "version": 3
   },
   "file_extension": ".py",
   "mimetype": "text/x-python",
   "name": "python",
   "nbconvert_exporter": "python",
   "pygments_lexer": "ipython3",
   "version": "3.10.11"
  }
 },
 "nbformat": 4,
 "nbformat_minor": 5
}
