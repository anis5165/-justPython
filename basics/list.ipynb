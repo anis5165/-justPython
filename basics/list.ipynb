{
 "cells": [
  {
   "cell_type": "code",
   "execution_count": 8,
   "id": "e31eccb7",
   "metadata": {},
   "outputs": [
    {
     "name": "stdout",
     "output_type": "stream",
     "text": [
      "['Black', 'Green', 'Oolong', 'White']\n",
      "Black\n",
      "White\n",
      "['Black', 'Green', 'Oolong']\n",
      "['Black', 'Green']\n",
      "['Black', 'Green', 'Oolong', 'Herbal']\n",
      "['Black', 'L', 'e', 'm', 'o', 'n', 'Oolong', 'Herbal']\n"
     ]
    }
   ],
   "source": [
    "tea_varities = [\"Black\", \"Green\", \"Oolong\", \"White\"]\n",
    "print(tea_varities)\n",
    "\n",
    "print(tea_varities[0]) #first value\n",
    "print(tea_varities[-1]) #last value\n",
    "\n",
    "\n",
    "print(tea_varities[0:3]) \n",
    "print(tea_varities[:2]) \n",
    "\n",
    "\n",
    "tea_varities[3] = \"Herbal\"\n",
    "print(tea_varities)\n",
    "\n",
    "tea_varities[1:2] = \"Lemon\"\n",
    "print(tea_varities)"
   ]
  },
  {
   "cell_type": "code",
   "execution_count": null,
   "id": "4f46cb25",
   "metadata": {},
   "outputs": [
    {
     "name": "stdout",
     "output_type": "stream",
     "text": [
      "['Black', 'Lemon', 'Oolong', 'White']\n",
      "['Lemon', 'Oolong']\n",
      "['Black', 'Green', 'Masala', 'White']\n",
      "['Black', 'test', 'test', 'Green', 'Masala', 'White']\n",
      "['test', 'test']\n",
      "['Black', 'Green', 'Masala', 'White']\n"
     ]
    }
   ],
   "source": [
    "tea_varities = [\"Black\", \"Green\", \"Oolong\", \"White\"]\n",
    "\n",
    "tea_varities[1:2]\n",
    "tea_varities[1:2] = [\"Lemon\"]\n",
    "\n",
    "print(tea_varities)\n",
    "\n",
    "print(tea_varities[1:3])\n",
    "\n",
    "tea_varities[1:3] = [\"Green\", \"Masala\"]\n",
    "print(tea_varities)\n",
    "\n",
    "\n",
    "tea_varities[1:1] #output : emtpy array\n",
    "\n",
    "tea_varities[1:1] = [\"test\", \"test\"]\n",
    "print(tea_varities)\n",
    "\n",
    "\n",
    "print(tea_varities[1:3])\n",
    "\n",
    "\n",
    "tea_varities[1:3] = []  #insert nothing\n",
    "print(tea_varities)"
   ]
  },
  {
   "cell_type": "code",
   "execution_count": null,
   "id": "d6bfe817",
   "metadata": {},
   "outputs": [
    {
     "name": "stdout",
     "output_type": "stream",
     "text": [
      "['Black', 'Green', 'Masala', 'White']\n",
      "Black\n",
      "Green\n",
      "Masala\n",
      "White\n",
      "Black Green Masala White "
     ]
    }
   ],
   "source": [
    "print(tea_varities)\n",
    "\n",
    "\n",
    "for t in tea_varities:\n",
    "    print(t)\n",
    "\n",
    "\n",
    "#print in single line \n",
    "for t in tea_varities:\n",
    "    print(t, end=\" \")"
   ]
  },
  {
   "cell_type": "code",
   "execution_count": 29,
   "id": "4b32b203",
   "metadata": {},
   "outputs": [
    {
     "name": "stdout",
     "output_type": "stream",
     "text": [
      "['Black', 'Green', 'Masala', 'White', 'Oolong', 'Oolong']\n",
      "I have Oolong tea\n",
      "['Black', 'Green', 'Masala', 'White', 'Oolong', 'Oolong', 'Oolong']\n",
      "I have Oolong tea\n",
      "['Black', 'Green', 'Masala', 'White', 'Oolong']\n"
     ]
    }
   ],
   "source": [
    "print(tea_varities)\n",
    "\n",
    "if \"Oolong\" in tea_varities:\n",
    "    print(\"I have Oolong tea\")\n",
    "else:\n",
    "    print(\"I don't have Oolong tea\")\n",
    "\n",
    "\n",
    "#add in last\n",
    "tea_varities.append(\"Oolong\")\n",
    "print(tea_varities)\n",
    "\n",
    "\n",
    "if \"Oolong\" in tea_varities:\n",
    "    print(\"I have Oolong tea\")\n",
    "else:\n",
    "    print(\"I don't have Oolong tea\")\n",
    "\n",
    "\n",
    "tea_varities.pop()\n",
    "tea_varities.pop()\n",
    "\n",
    "print(tea_varities)"
   ]
  },
  {
   "cell_type": "code",
   "execution_count": 33,
   "id": "407e2929",
   "metadata": {},
   "outputs": [
    {
     "name": "stdout",
     "output_type": "stream",
     "text": [
      "['Black', 'Oolong', 'White']\n",
      "['Black', 'green', 'Oolong', 'White']\n",
      "['Black', 'green', 'Oolong', 'White']\n",
      "['Black', 'green', 'Oolong', 'White', 'Lemon']\n",
      "['Black', 'green', 'Oolong', 'White']\n"
     ]
    }
   ],
   "source": [
    "tea_varities = [\"Black\", \"Green\", \"Oolong\", \"White\"]\n",
    "\n",
    "tea_varities.remove(\"Green\")\n",
    "print(tea_varities)\n",
    "\n",
    "\n",
    "tea_varities.insert(1, \"green\")\n",
    "print(tea_varities)\n",
    "\n",
    "tea_varities_copy = tea_varities.copy()  #memory me ek new copy create ho gyi hai\n",
    "\n",
    "print(tea_varities_copy)\n",
    "\n",
    "tea_varities_copy.append(\"Lemon\")\n",
    "print(tea_varities_copy)\n",
    "print(tea_varities)"
   ]
  },
  {
   "cell_type": "code",
   "execution_count": 37,
   "id": "0f9f5d08",
   "metadata": {},
   "outputs": [
    {
     "name": "stdout",
     "output_type": "stream",
     "text": [
      "range(0, 10)\n",
      "range(0, 10)\n",
      "[0, 1, 4, 9, 16, 25, 36, 49, 64, 81]\n",
      "[0, 1, 8, 27, 64]\n"
     ]
    }
   ],
   "source": [
    "print(range(10))\n",
    "\n",
    "y = range(10)\n",
    "print(y)\n",
    "\n",
    "\n",
    "squared_nums = [x**2 for x in range(10)]\n",
    "print(squared_nums)\n",
    "\n",
    "\n",
    "cube_nums = [y**3 for y in range(5)]\n",
    "print(cube_nums)"
   ]
  }
 ],
 "metadata": {
  "kernelspec": {
   "display_name": "Python 3",
   "language": "python",
   "name": "python3"
  },
  "language_info": {
   "codemirror_mode": {
    "name": "ipython",
    "version": 3
   },
   "file_extension": ".py",
   "mimetype": "text/x-python",
   "name": "python",
   "nbconvert_exporter": "python",
   "pygments_lexer": "ipython3",
   "version": "3.10.11"
  }
 },
 "nbformat": 4,
 "nbformat_minor": 5
}
