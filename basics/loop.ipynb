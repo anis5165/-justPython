{
 "cells": [
  {
   "cell_type": "code",
   "execution_count": 4,
   "id": "7a79e091",
   "metadata": {},
   "outputs": [
    {
     "name": "stdout",
     "output_type": "stream",
     "text": [
      "Total positive number is: 4\n"
     ]
    }
   ],
   "source": [
    "# count positive number \n",
    "\n",
    "numbers = [1,-2,3,-4,5,6,-7,-8,9,10]\n",
    "count = 0\n",
    "for i in numbers:\n",
    "    if i < 0:\n",
    "        count += 1\n",
    "print(\"Total positive number is:\",count)"
   ]
  },
  {
   "cell_type": "code",
   "execution_count": 5,
   "id": "7f199297",
   "metadata": {},
   "outputs": [
    {
     "name": "stdout",
     "output_type": "stream",
     "text": [
      "Even number sum is:  30\n"
     ]
    }
   ],
   "source": [
    "# sum of even number up to a givern number n \n",
    "n = int(input(\"Enter number : \"))\n",
    "\n",
    "sum = 0\n",
    "\n",
    "for i in range(1,n+1):\n",
    "    if i % 2 ==0:\n",
    "        sum += i\n",
    "print(\"Even number sum is: \",sum)"
   ]
  },
  {
   "cell_type": "code",
   "execution_count": 10,
   "id": "b6ccc587",
   "metadata": {},
   "outputs": [
    {
     "name": "stdout",
     "output_type": "stream",
     "text": [
      "5 x 1 = 5\n",
      "5 x 2 = 10\n",
      "5 x 3 = 15\n",
      "5 x 4 = 20\n",
      "5 x 6 = 30\n",
      "5 x 7 = 35\n",
      "5 x 8 = 40\n",
      "5 x 9 = 45\n",
      "5 x 10 = 50\n"
     ]
    }
   ],
   "source": [
    "# print the multiplication tabke for a given number up to 10, but skip the fifth iteration \n",
    "\n",
    "n = int(input(\"Enter number : \"))\n",
    "\n",
    "for i in range(1,11):\n",
    "    if i == 5:\n",
    "        continue\n",
    "    print(n,\"x\",i,\"=\",i*n)"
   ]
  },
  {
   "cell_type": "code",
   "execution_count": 11,
   "id": "0ed597d9",
   "metadata": {},
   "outputs": [
    {
     "name": "stdout",
     "output_type": "stream",
     "text": [
      "nohtyp\n"
     ]
    }
   ],
   "source": [
    "# reverse string \n",
    "\n",
    "n = input(\"Enter string : \")\n",
    "\n",
    "reversed_str = \"\"\n",
    "\n",
    "for char in n:\n",
    "    reversed_str = char + reversed_str\n",
    "print(reversed_str)"
   ]
  },
  {
   "cell_type": "code",
   "execution_count": 13,
   "id": "3d79d236",
   "metadata": {},
   "outputs": [
    {
     "name": "stdout",
     "output_type": "stream",
     "text": [
      "fjhghfxgcjhvjhg\n",
      "char is : x\n"
     ]
    }
   ],
   "source": [
    "#find the first non repeated character\n",
    "\n",
    "input_str = input(\"Enter string : \")\n",
    "\n",
    "print(input_str)\n",
    "for char in input_str:\n",
    "    if input_str.count(char) == 1:\n",
    "        print(\"char is :\", char)\n",
    "        break"
   ]
  },
  {
   "cell_type": "code",
   "execution_count": null,
   "id": "8fb83dcb",
   "metadata": {},
   "outputs": [
    {
     "name": "stdout",
     "output_type": "stream",
     "text": [
      "factorial 479001600\n"
     ]
    }
   ],
   "source": [
    "#factorial calculator\n",
    "\n",
    "n = int(input(\"Enter number : \"))\n",
    "fact = 1\n",
    "\n",
    "while n > 0:\n",
    "    fact*=n\n",
    "    n-=1\n",
    "\n",
    "print(\"factorial :\",fact)"
   ]
  },
  {
   "cell_type": "code",
   "execution_count": null,
   "id": "2b0cf9f4",
   "metadata": {},
   "outputs": [
    {
     "name": "stdout",
     "output_type": "stream",
     "text": [
      "Invalid number try again\n",
      "Invalid number try again\n",
      "Invalid number try again\n",
      "Invalid number try again\n",
      "Invalid number try again\n",
      "Invalid number try again\n",
      "Invalid number try again\n",
      "Invalid number try again\n",
      "Thanks\n"
     ]
    }
   ],
   "source": [
    "# validate input - keep asking the user for input until they enter a number between 1 and 10\n",
    "\n",
    "while True:\n",
    "    n = int(input(\"Enter number between 1 and 10\"))\n",
    "    if 1 <= n <= 10:\n",
    "        print(\"Thanks\")\n",
    "        break\n",
    "    else:\n",
    "        print(\"Invalid number try again\")"
   ]
  },
  {
   "cell_type": "code",
   "execution_count": 19,
   "id": "5e4743d7",
   "metadata": {},
   "outputs": [
    {
     "name": "stdout",
     "output_type": "stream",
     "text": [
      "52 is Not prime\n"
     ]
    }
   ],
   "source": [
    "#check prime number\n",
    "\n",
    "n = int(input(\"Enter number : \"))\n",
    "\n",
    "is_Prime = True\n",
    "\n",
    "if n > 1 :\n",
    "    for i in range(2,n):\n",
    "        if n % i == 0:\n",
    "            is_Prime = False\n",
    "            break\n",
    "if is_Prime == True:\n",
    "    print(n,\"is prime\")\n",
    "else:\n",
    "    print(n,\"is Not prime\")"
   ]
  },
  {
   "cell_type": "code",
   "execution_count": null,
   "id": "7acec6e2",
   "metadata": {},
   "outputs": [
    {
     "name": "stdout",
     "output_type": "stream",
     "text": [
      "Duplicate apple\n",
      "{'orange', 'apple', 'banana'}\n"
     ]
    }
   ],
   "source": [
    "#list uniqueness checker\n",
    "\n",
    "items = [\"apple\",\"banana\",\"orange\",\"apple\",\"mango\"]\n",
    "\n",
    "unique_item = set()\n",
    "\n",
    "for item in items:\n",
    "    if item in unique_item:\n",
    "        print(\"Duplicate\",item)\n",
    "        break\n",
    "    unique_item.add(item)\n"
   ]
  },
  {
   "cell_type": "code",
   "execution_count": 22,
   "id": "f71e7eee",
   "metadata": {},
   "outputs": [
    {
     "name": "stdout",
     "output_type": "stream",
     "text": [
      "Attempt 1 - Wait time 1\n",
      "Attempt 2 - Wait time 2\n",
      "Attempt 3 - Wait time 4\n",
      "Attempt 4 - Wait time 8\n",
      "Attempt 5 - Wait time 16\n"
     ]
    }
   ],
   "source": [
    "#exponentional backoff - implement an exponential backoff strategy that doubles the wait time between retries, \n",
    "# starting form 1 second, but stops after 5 retries\n",
    "\n",
    "import time\n",
    "\n",
    "wait_time = 1\n",
    "max_retries = 5\n",
    "attempts = 0\n",
    "\n",
    "while attempts < max_retries:\n",
    "    print(\"Attempt\", attempts + 1, \"- Wait time\", wait_time)\n",
    "    time.sleep(wait_time)\n",
    "    wait_time *= 2\n",
    "    attempts += 1"
   ]
  }
 ],
 "metadata": {
  "kernelspec": {
   "display_name": "Python 3",
   "language": "python",
   "name": "python3"
  },
  "language_info": {
   "codemirror_mode": {
    "name": "ipython",
    "version": 3
   },
   "file_extension": ".py",
   "mimetype": "text/x-python",
   "name": "python",
   "nbconvert_exporter": "python",
   "pygments_lexer": "ipython3",
   "version": "3.10.11"
  }
 },
 "nbformat": 4,
 "nbformat_minor": 5
}
